{
 "cells": [
  {
   "cell_type": "code",
   "execution_count": 3,
   "metadata": {
    "collapsed": true
   },
   "outputs": [],
   "source": [
    "import pandas as pd\n",
    "import mysql.connector as msql\n",
    "from mysql.connector import Error\n",
    "df = pd.read_csv(\"~/Downloads/vgsales-2.csv\")"
   ]
  },
  {
   "cell_type": "code",
   "execution_count": 4,
   "outputs": [
    {
     "data": {
      "text/plain": "Index(['title', 'console', 'alcohol_reference', 'animated_blood', 'blood',\n       'blood_and_gore', 'cartoon_violence', 'crude_humor', 'drug_reference',\n       'fantasy_violence', 'intense_violence', 'language', 'lyrics',\n       'mature_humor', 'mild_blood', 'mild_cartoon_violence',\n       'mild_fantasy_violence', 'mild_language', 'mild_lyrics',\n       'mild_suggestive_themes', 'mild_violence', 'no_descriptors', 'nudity',\n       'partial_nudity', 'sexual_content', 'sexual_themes',\n       'simulated_gambling', 'strong_janguage', 'strong_sexual_content',\n       'suggestive_themes', 'use_of_alcohol', 'use_of_drugs_and_alcohol',\n       'violence', 'esrb_rating'],\n      dtype='object')"
     },
     "execution_count": 4,
     "metadata": {},
     "output_type": "execute_result"
    }
   ],
   "source": [
    "df.columns"
   ],
   "metadata": {
    "collapsed": false,
    "pycharm": {
     "name": "#%%\n"
    }
   }
  },
  {
   "cell_type": "code",
   "execution_count": 5,
   "outputs": [
    {
     "data": {
      "text/plain": "(1895, 34)"
     },
     "execution_count": 5,
     "metadata": {},
     "output_type": "execute_result"
    }
   ],
   "source": [
    "df.shape"
   ],
   "metadata": {
    "collapsed": false,
    "pycharm": {
     "name": "#%%\n"
    }
   }
  },
  {
   "cell_type": "code",
   "execution_count": 6,
   "outputs": [
    {
     "data": {
      "text/plain": "                               title  console  alcohol_reference  \\\n0         Monster Jam Steel Titans 2        1                  0   \n1             Subnautica: Below Zero        1                  0   \n2  NIER REPLICANT VER.1.22474487139…        1                  0   \n3                         Jamestown+        0                  0   \n4             Neptunia Virtual Stars        0                  0   \n\n   animated_blood  blood  blood_and_gore  cartoon_violence  crude_humor  \\\n0               0      0               0                 0            0   \n1               1      0               0                 0            0   \n2               0      1               0                 0            0   \n3               0      0               0                 0            0   \n4               0      0               0                 0            0   \n\n   drug_reference  fantasy_violence  ...  sexual_content  sexual_themes  \\\n0               0                 0  ...               0              0   \n1               0                 0  ...               0              0   \n2               0                 0  ...               0              0   \n3               0                 1  ...               0              0   \n4               0                 1  ...               0              0   \n\n   simulated_gambling  strong_janguage  strong_sexual_content  \\\n0                   0                0                      0   \n1                   0                0                      0   \n2                   0                1                      0   \n3                   0                0                      0   \n4                   0                0                      0   \n\n   suggestive_themes  use_of_alcohol  use_of_drugs_and_alcohol  violence  \\\n0                  0               0                         0         0   \n1                  0               0                         0         0   \n2                  1               0                         0         0   \n3                  0               0                         0         0   \n4                  1               0                         0         0   \n\n   esrb_rating  \n0            E  \n1           ET  \n2            M  \n3           ET  \n4            T  \n\n[5 rows x 34 columns]",
      "text/html": "<div>\n<style scoped>\n    .dataframe tbody tr th:only-of-type {\n        vertical-align: middle;\n    }\n\n    .dataframe tbody tr th {\n        vertical-align: top;\n    }\n\n    .dataframe thead th {\n        text-align: right;\n    }\n</style>\n<table border=\"1\" class=\"dataframe\">\n  <thead>\n    <tr style=\"text-align: right;\">\n      <th></th>\n      <th>title</th>\n      <th>console</th>\n      <th>alcohol_reference</th>\n      <th>animated_blood</th>\n      <th>blood</th>\n      <th>blood_and_gore</th>\n      <th>cartoon_violence</th>\n      <th>crude_humor</th>\n      <th>drug_reference</th>\n      <th>fantasy_violence</th>\n      <th>...</th>\n      <th>sexual_content</th>\n      <th>sexual_themes</th>\n      <th>simulated_gambling</th>\n      <th>strong_janguage</th>\n      <th>strong_sexual_content</th>\n      <th>suggestive_themes</th>\n      <th>use_of_alcohol</th>\n      <th>use_of_drugs_and_alcohol</th>\n      <th>violence</th>\n      <th>esrb_rating</th>\n    </tr>\n  </thead>\n  <tbody>\n    <tr>\n      <th>0</th>\n      <td>Monster Jam Steel Titans 2</td>\n      <td>1</td>\n      <td>0</td>\n      <td>0</td>\n      <td>0</td>\n      <td>0</td>\n      <td>0</td>\n      <td>0</td>\n      <td>0</td>\n      <td>0</td>\n      <td>...</td>\n      <td>0</td>\n      <td>0</td>\n      <td>0</td>\n      <td>0</td>\n      <td>0</td>\n      <td>0</td>\n      <td>0</td>\n      <td>0</td>\n      <td>0</td>\n      <td>E</td>\n    </tr>\n    <tr>\n      <th>1</th>\n      <td>Subnautica: Below Zero</td>\n      <td>1</td>\n      <td>0</td>\n      <td>1</td>\n      <td>0</td>\n      <td>0</td>\n      <td>0</td>\n      <td>0</td>\n      <td>0</td>\n      <td>0</td>\n      <td>...</td>\n      <td>0</td>\n      <td>0</td>\n      <td>0</td>\n      <td>0</td>\n      <td>0</td>\n      <td>0</td>\n      <td>0</td>\n      <td>0</td>\n      <td>0</td>\n      <td>ET</td>\n    </tr>\n    <tr>\n      <th>2</th>\n      <td>NIER REPLICANT VER.1.22474487139…</td>\n      <td>1</td>\n      <td>0</td>\n      <td>0</td>\n      <td>1</td>\n      <td>0</td>\n      <td>0</td>\n      <td>0</td>\n      <td>0</td>\n      <td>0</td>\n      <td>...</td>\n      <td>0</td>\n      <td>0</td>\n      <td>0</td>\n      <td>1</td>\n      <td>0</td>\n      <td>1</td>\n      <td>0</td>\n      <td>0</td>\n      <td>0</td>\n      <td>M</td>\n    </tr>\n    <tr>\n      <th>3</th>\n      <td>Jamestown+</td>\n      <td>0</td>\n      <td>0</td>\n      <td>0</td>\n      <td>0</td>\n      <td>0</td>\n      <td>0</td>\n      <td>0</td>\n      <td>0</td>\n      <td>1</td>\n      <td>...</td>\n      <td>0</td>\n      <td>0</td>\n      <td>0</td>\n      <td>0</td>\n      <td>0</td>\n      <td>0</td>\n      <td>0</td>\n      <td>0</td>\n      <td>0</td>\n      <td>ET</td>\n    </tr>\n    <tr>\n      <th>4</th>\n      <td>Neptunia Virtual Stars</td>\n      <td>0</td>\n      <td>0</td>\n      <td>0</td>\n      <td>0</td>\n      <td>0</td>\n      <td>0</td>\n      <td>0</td>\n      <td>0</td>\n      <td>1</td>\n      <td>...</td>\n      <td>0</td>\n      <td>0</td>\n      <td>0</td>\n      <td>0</td>\n      <td>0</td>\n      <td>1</td>\n      <td>0</td>\n      <td>0</td>\n      <td>0</td>\n      <td>T</td>\n    </tr>\n  </tbody>\n</table>\n<p>5 rows × 34 columns</p>\n</div>"
     },
     "execution_count": 6,
     "metadata": {},
     "output_type": "execute_result"
    }
   ],
   "source": [
    "df.head()"
   ],
   "metadata": {
    "collapsed": false,
    "pycharm": {
     "name": "#%%\n"
    }
   }
  }
 ],
 "metadata": {
  "kernelspec": {
   "display_name": "Python 3",
   "language": "python",
   "name": "python3"
  },
  "language_info": {
   "codemirror_mode": {
    "name": "ipython",
    "version": 2
   },
   "file_extension": ".py",
   "mimetype": "text/x-python",
   "name": "python",
   "nbconvert_exporter": "python",
   "pygments_lexer": "ipython2",
   "version": "2.7.6"
  }
 },
 "nbformat": 4,
 "nbformat_minor": 0
}