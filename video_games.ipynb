{
 "cells": [
  {
   "cell_type": "markdown",
   "source": [],
   "metadata": {
    "collapsed": false
   }
  },
  {
   "cell_type": "code",
   "execution_count": 181,
   "outputs": [],
   "source": [
    "import pandas as pd\n",
    "import matplotlib.pyplot as mplt\n",
    "import numpy as np\n",
    "import plotly.graph_objects as go"
   ],
   "metadata": {
    "collapsed": false,
    "pycharm": {
     "name": "#%%\n"
    }
   }
  },
  {
   "cell_type": "code",
   "execution_count": 182,
   "outputs": [],
   "source": [
    "df_vg_names = pd.read_csv(\"datasets/vgsales-1.csv\")\n",
    "df_vg_ersb = pd.read_csv(\"datasets/vgsales-2.csv\")\n",
    "df_vg_sales = pd.read_csv(\"datasets/vgsales-3.csv\")"
   ],
   "metadata": {
    "collapsed": false,
    "pycharm": {
     "name": "#%%\n"
    }
   }
  },
  {
   "cell_type": "code",
   "execution_count": 183,
   "outputs": [
    {
     "data": {
      "text/plain": "    Rank                                Name                      basename  \\\n0      1                          Wii Sports                    wii-sports   \n1      2                   Super Mario Bros.              super-mario-bros   \n2      3                      Mario Kart Wii                mario-kart-wii   \n3      4       PlayerUnknown's Battlegrounds  playerunknowns-battlegrounds   \n4      5                   Wii Sports Resort             wii-sports-resort   \n5      6  Pokemon Red / Green / Blue Version                    pokmon-red   \n6      7               New Super Mario Bros.          new-super-mario-bros   \n7      8                              Tetris                        tetris   \n8      9           New Super Mario Bros. Wii      new-super-mario-bros-wii   \n9     10                           Minecraft                     minecraft   \n10    11                           Duck Hunt                     duck-hunt   \n11    12                            Wii Play                      wii-play   \n12    13                  Kinect Adventures!             kinect-adventures   \n13    14                          Nintendogs                    nintendogs   \n14    15                       Mario Kart DS                 mario-kart-ds   \n\n           Genre ESRB_Rating Platform               Publisher  \\\n0         Sports           E      Wii                Nintendo   \n1       Platform         NaN      NES                Nintendo   \n2         Racing           E      Wii                Nintendo   \n3        Shooter         NaN       PC        PUBG Corporation   \n4         Sports           E      Wii                Nintendo   \n5   Role-Playing           E       GB                Nintendo   \n6       Platform           E       DS                Nintendo   \n7         Puzzle           E       GB                Nintendo   \n8       Platform           E      Wii                Nintendo   \n9           Misc         NaN       PC                  Mojang   \n10       Shooter         NaN      NES                Nintendo   \n11          Misc           E      Wii                Nintendo   \n12         Party           E     X360  Microsoft Game Studios   \n13    Simulation           E       DS                Nintendo   \n14        Racing           E       DS                Nintendo   \n\n                Developer  VGChartz_Score  Critic_Score  ...  NA_Sales  \\\n0            Nintendo EAD             NaN           7.7  ...       NaN   \n1            Nintendo EAD             NaN          10.0  ...       NaN   \n2            Nintendo EAD             NaN           8.2  ...       NaN   \n3        PUBG Corporation             NaN           NaN  ...       NaN   \n4            Nintendo EAD             NaN           8.0  ...       NaN   \n5              Game Freak             NaN           9.4  ...       NaN   \n6            Nintendo EAD             NaN           9.1  ...       NaN   \n7   Bullet Proof Software             NaN           NaN  ...       NaN   \n8            Nintendo EAD             NaN           8.6  ...       NaN   \n9               Mojang AB             NaN          10.0  ...       NaN   \n10          Nintendo R&D1             NaN           NaN  ...       NaN   \n11           Nintendo EAD             NaN           5.9  ...       NaN   \n12    Good Science Studio             NaN           6.7  ...       NaN   \n13           Nintendo EAD             NaN           8.4  ...       NaN   \n14           Nintendo EAD             NaN           9.1  ...       NaN   \n\n    PAL_Sales  JP_Sales  Other_Sales    Year  Last_Update  \\\n0         NaN       NaN          NaN  2006.0          NaN   \n1         NaN       NaN          NaN  1985.0          NaN   \n2         NaN       NaN          NaN  2008.0  11th Apr 18   \n3         NaN       NaN          NaN  2017.0  13th Nov 18   \n4         NaN       NaN          NaN  2009.0          NaN   \n5         NaN       NaN          NaN  1998.0          NaN   \n6         NaN       NaN          NaN  2006.0          NaN   \n7         NaN       NaN          NaN  1989.0          NaN   \n8         NaN       NaN          NaN  2009.0          NaN   \n9         NaN       NaN          NaN  2010.0  05th Aug 18   \n10        NaN       NaN          NaN  1985.0          NaN   \n11        NaN       NaN          NaN  2007.0          NaN   \n12        NaN       NaN          NaN  2010.0  29th Sep 18   \n13        NaN       NaN          NaN  2005.0          NaN   \n14        NaN       NaN          NaN  2005.0          NaN   \n\n                                                  url  status Vgchartzscore  \\\n0   http://www.vgchartz.com/game/2667/wii-sports/?...       1           NaN   \n1   http://www.vgchartz.com/game/6455/super-mario-...       1           NaN   \n2   http://www.vgchartz.com/game/6968/mario-kart-w...       1           8.7   \n3   http://www.vgchartz.com/game/215988/playerunkn...       1           NaN   \n4   http://www.vgchartz.com/game/24656/wii-sports-...       1           8.8   \n5   http://www.vgchartz.com/game/4030/pokemon-red-...       1           NaN   \n6   http://www.vgchartz.com/game/1582/new-super-ma...       1           NaN   \n7   http://www.vgchartz.com/game/4534/tetris/?regi...       1           NaN   \n8   http://www.vgchartz.com/game/35076/new-super-m...       1           9.1   \n9   http://www.vgchartz.com/game/47724/minecraft/?...       1           NaN   \n10  http://www.vgchartz.com/game/6246/duck-hunt/?r...       1           NaN   \n11  http://www.vgchartz.com/game/2666/wii-play/?re...       1           5.3   \n12  http://www.vgchartz.com/game/45608/kinect-adve...       1           6.2   \n13  http://www.vgchartz.com/game/1657/nintendogs/?...       1           NaN   \n14  http://www.vgchartz.com/game/1254/mario-kart-d...       1           NaN   \n\n                                              img_url  \n0       /games/boxart/full_2258645AmericaFrontccc.jpg  \n1                        /games/boxart/8972270ccc.jpg  \n2       /games/boxart/full_8932480AmericaFrontccc.jpg  \n3       /games/boxart/full_8052843AmericaFrontccc.jpg  \n4       /games/boxart/full_7295041AmericaFrontccc.jpg  \n5       /games/boxart/full_6442337AmericaFrontccc.png  \n6       /games/boxart/full_2916260AmericaFrontccc.jpg  \n7                        /games/boxart/3740960ccc.jpg  \n8       /games/boxart/full_1410872AmericaFrontccc.jpg  \n9      /games/boxart/full_minecraft_1AmericaFront.png  \n10      /games/boxart/full_6570468AmericaFrontccc.jpg  \n11      /games/boxart/full_6165969AmericaFrontccc.jpg  \n12  /games/boxart/full_kinect-adventures_386Americ...  \n13      /games/boxart/full_4870931AmericaFrontccc.jpg  \n14      /games/boxart/full_9551652AmericaFrontccc.jpg  \n\n[15 rows x 23 columns]",
      "text/html": "<div>\n<style scoped>\n    .dataframe tbody tr th:only-of-type {\n        vertical-align: middle;\n    }\n\n    .dataframe tbody tr th {\n        vertical-align: top;\n    }\n\n    .dataframe thead th {\n        text-align: right;\n    }\n</style>\n<table border=\"1\" class=\"dataframe\">\n  <thead>\n    <tr style=\"text-align: right;\">\n      <th></th>\n      <th>Rank</th>\n      <th>Name</th>\n      <th>basename</th>\n      <th>Genre</th>\n      <th>ESRB_Rating</th>\n      <th>Platform</th>\n      <th>Publisher</th>\n      <th>Developer</th>\n      <th>VGChartz_Score</th>\n      <th>Critic_Score</th>\n      <th>...</th>\n      <th>NA_Sales</th>\n      <th>PAL_Sales</th>\n      <th>JP_Sales</th>\n      <th>Other_Sales</th>\n      <th>Year</th>\n      <th>Last_Update</th>\n      <th>url</th>\n      <th>status</th>\n      <th>Vgchartzscore</th>\n      <th>img_url</th>\n    </tr>\n  </thead>\n  <tbody>\n    <tr>\n      <th>0</th>\n      <td>1</td>\n      <td>Wii Sports</td>\n      <td>wii-sports</td>\n      <td>Sports</td>\n      <td>E</td>\n      <td>Wii</td>\n      <td>Nintendo</td>\n      <td>Nintendo EAD</td>\n      <td>NaN</td>\n      <td>7.7</td>\n      <td>...</td>\n      <td>NaN</td>\n      <td>NaN</td>\n      <td>NaN</td>\n      <td>NaN</td>\n      <td>2006.0</td>\n      <td>NaN</td>\n      <td>http://www.vgchartz.com/game/2667/wii-sports/?...</td>\n      <td>1</td>\n      <td>NaN</td>\n      <td>/games/boxart/full_2258645AmericaFrontccc.jpg</td>\n    </tr>\n    <tr>\n      <th>1</th>\n      <td>2</td>\n      <td>Super Mario Bros.</td>\n      <td>super-mario-bros</td>\n      <td>Platform</td>\n      <td>NaN</td>\n      <td>NES</td>\n      <td>Nintendo</td>\n      <td>Nintendo EAD</td>\n      <td>NaN</td>\n      <td>10.0</td>\n      <td>...</td>\n      <td>NaN</td>\n      <td>NaN</td>\n      <td>NaN</td>\n      <td>NaN</td>\n      <td>1985.0</td>\n      <td>NaN</td>\n      <td>http://www.vgchartz.com/game/6455/super-mario-...</td>\n      <td>1</td>\n      <td>NaN</td>\n      <td>/games/boxart/8972270ccc.jpg</td>\n    </tr>\n    <tr>\n      <th>2</th>\n      <td>3</td>\n      <td>Mario Kart Wii</td>\n      <td>mario-kart-wii</td>\n      <td>Racing</td>\n      <td>E</td>\n      <td>Wii</td>\n      <td>Nintendo</td>\n      <td>Nintendo EAD</td>\n      <td>NaN</td>\n      <td>8.2</td>\n      <td>...</td>\n      <td>NaN</td>\n      <td>NaN</td>\n      <td>NaN</td>\n      <td>NaN</td>\n      <td>2008.0</td>\n      <td>11th Apr 18</td>\n      <td>http://www.vgchartz.com/game/6968/mario-kart-w...</td>\n      <td>1</td>\n      <td>8.7</td>\n      <td>/games/boxart/full_8932480AmericaFrontccc.jpg</td>\n    </tr>\n    <tr>\n      <th>3</th>\n      <td>4</td>\n      <td>PlayerUnknown's Battlegrounds</td>\n      <td>playerunknowns-battlegrounds</td>\n      <td>Shooter</td>\n      <td>NaN</td>\n      <td>PC</td>\n      <td>PUBG Corporation</td>\n      <td>PUBG Corporation</td>\n      <td>NaN</td>\n      <td>NaN</td>\n      <td>...</td>\n      <td>NaN</td>\n      <td>NaN</td>\n      <td>NaN</td>\n      <td>NaN</td>\n      <td>2017.0</td>\n      <td>13th Nov 18</td>\n      <td>http://www.vgchartz.com/game/215988/playerunkn...</td>\n      <td>1</td>\n      <td>NaN</td>\n      <td>/games/boxart/full_8052843AmericaFrontccc.jpg</td>\n    </tr>\n    <tr>\n      <th>4</th>\n      <td>5</td>\n      <td>Wii Sports Resort</td>\n      <td>wii-sports-resort</td>\n      <td>Sports</td>\n      <td>E</td>\n      <td>Wii</td>\n      <td>Nintendo</td>\n      <td>Nintendo EAD</td>\n      <td>NaN</td>\n      <td>8.0</td>\n      <td>...</td>\n      <td>NaN</td>\n      <td>NaN</td>\n      <td>NaN</td>\n      <td>NaN</td>\n      <td>2009.0</td>\n      <td>NaN</td>\n      <td>http://www.vgchartz.com/game/24656/wii-sports-...</td>\n      <td>1</td>\n      <td>8.8</td>\n      <td>/games/boxart/full_7295041AmericaFrontccc.jpg</td>\n    </tr>\n    <tr>\n      <th>5</th>\n      <td>6</td>\n      <td>Pokemon Red / Green / Blue Version</td>\n      <td>pokmon-red</td>\n      <td>Role-Playing</td>\n      <td>E</td>\n      <td>GB</td>\n      <td>Nintendo</td>\n      <td>Game Freak</td>\n      <td>NaN</td>\n      <td>9.4</td>\n      <td>...</td>\n      <td>NaN</td>\n      <td>NaN</td>\n      <td>NaN</td>\n      <td>NaN</td>\n      <td>1998.0</td>\n      <td>NaN</td>\n      <td>http://www.vgchartz.com/game/4030/pokemon-red-...</td>\n      <td>1</td>\n      <td>NaN</td>\n      <td>/games/boxart/full_6442337AmericaFrontccc.png</td>\n    </tr>\n    <tr>\n      <th>6</th>\n      <td>7</td>\n      <td>New Super Mario Bros.</td>\n      <td>new-super-mario-bros</td>\n      <td>Platform</td>\n      <td>E</td>\n      <td>DS</td>\n      <td>Nintendo</td>\n      <td>Nintendo EAD</td>\n      <td>NaN</td>\n      <td>9.1</td>\n      <td>...</td>\n      <td>NaN</td>\n      <td>NaN</td>\n      <td>NaN</td>\n      <td>NaN</td>\n      <td>2006.0</td>\n      <td>NaN</td>\n      <td>http://www.vgchartz.com/game/1582/new-super-ma...</td>\n      <td>1</td>\n      <td>NaN</td>\n      <td>/games/boxart/full_2916260AmericaFrontccc.jpg</td>\n    </tr>\n    <tr>\n      <th>7</th>\n      <td>8</td>\n      <td>Tetris</td>\n      <td>tetris</td>\n      <td>Puzzle</td>\n      <td>E</td>\n      <td>GB</td>\n      <td>Nintendo</td>\n      <td>Bullet Proof Software</td>\n      <td>NaN</td>\n      <td>NaN</td>\n      <td>...</td>\n      <td>NaN</td>\n      <td>NaN</td>\n      <td>NaN</td>\n      <td>NaN</td>\n      <td>1989.0</td>\n      <td>NaN</td>\n      <td>http://www.vgchartz.com/game/4534/tetris/?regi...</td>\n      <td>1</td>\n      <td>NaN</td>\n      <td>/games/boxart/3740960ccc.jpg</td>\n    </tr>\n    <tr>\n      <th>8</th>\n      <td>9</td>\n      <td>New Super Mario Bros. Wii</td>\n      <td>new-super-mario-bros-wii</td>\n      <td>Platform</td>\n      <td>E</td>\n      <td>Wii</td>\n      <td>Nintendo</td>\n      <td>Nintendo EAD</td>\n      <td>NaN</td>\n      <td>8.6</td>\n      <td>...</td>\n      <td>NaN</td>\n      <td>NaN</td>\n      <td>NaN</td>\n      <td>NaN</td>\n      <td>2009.0</td>\n      <td>NaN</td>\n      <td>http://www.vgchartz.com/game/35076/new-super-m...</td>\n      <td>1</td>\n      <td>9.1</td>\n      <td>/games/boxart/full_1410872AmericaFrontccc.jpg</td>\n    </tr>\n    <tr>\n      <th>9</th>\n      <td>10</td>\n      <td>Minecraft</td>\n      <td>minecraft</td>\n      <td>Misc</td>\n      <td>NaN</td>\n      <td>PC</td>\n      <td>Mojang</td>\n      <td>Mojang AB</td>\n      <td>NaN</td>\n      <td>10.0</td>\n      <td>...</td>\n      <td>NaN</td>\n      <td>NaN</td>\n      <td>NaN</td>\n      <td>NaN</td>\n      <td>2010.0</td>\n      <td>05th Aug 18</td>\n      <td>http://www.vgchartz.com/game/47724/minecraft/?...</td>\n      <td>1</td>\n      <td>NaN</td>\n      <td>/games/boxart/full_minecraft_1AmericaFront.png</td>\n    </tr>\n    <tr>\n      <th>10</th>\n      <td>11</td>\n      <td>Duck Hunt</td>\n      <td>duck-hunt</td>\n      <td>Shooter</td>\n      <td>NaN</td>\n      <td>NES</td>\n      <td>Nintendo</td>\n      <td>Nintendo R&amp;D1</td>\n      <td>NaN</td>\n      <td>NaN</td>\n      <td>...</td>\n      <td>NaN</td>\n      <td>NaN</td>\n      <td>NaN</td>\n      <td>NaN</td>\n      <td>1985.0</td>\n      <td>NaN</td>\n      <td>http://www.vgchartz.com/game/6246/duck-hunt/?r...</td>\n      <td>1</td>\n      <td>NaN</td>\n      <td>/games/boxart/full_6570468AmericaFrontccc.jpg</td>\n    </tr>\n    <tr>\n      <th>11</th>\n      <td>12</td>\n      <td>Wii Play</td>\n      <td>wii-play</td>\n      <td>Misc</td>\n      <td>E</td>\n      <td>Wii</td>\n      <td>Nintendo</td>\n      <td>Nintendo EAD</td>\n      <td>NaN</td>\n      <td>5.9</td>\n      <td>...</td>\n      <td>NaN</td>\n      <td>NaN</td>\n      <td>NaN</td>\n      <td>NaN</td>\n      <td>2007.0</td>\n      <td>NaN</td>\n      <td>http://www.vgchartz.com/game/2666/wii-play/?re...</td>\n      <td>1</td>\n      <td>5.3</td>\n      <td>/games/boxart/full_6165969AmericaFrontccc.jpg</td>\n    </tr>\n    <tr>\n      <th>12</th>\n      <td>13</td>\n      <td>Kinect Adventures!</td>\n      <td>kinect-adventures</td>\n      <td>Party</td>\n      <td>E</td>\n      <td>X360</td>\n      <td>Microsoft Game Studios</td>\n      <td>Good Science Studio</td>\n      <td>NaN</td>\n      <td>6.7</td>\n      <td>...</td>\n      <td>NaN</td>\n      <td>NaN</td>\n      <td>NaN</td>\n      <td>NaN</td>\n      <td>2010.0</td>\n      <td>29th Sep 18</td>\n      <td>http://www.vgchartz.com/game/45608/kinect-adve...</td>\n      <td>1</td>\n      <td>6.2</td>\n      <td>/games/boxart/full_kinect-adventures_386Americ...</td>\n    </tr>\n    <tr>\n      <th>13</th>\n      <td>14</td>\n      <td>Nintendogs</td>\n      <td>nintendogs</td>\n      <td>Simulation</td>\n      <td>E</td>\n      <td>DS</td>\n      <td>Nintendo</td>\n      <td>Nintendo EAD</td>\n      <td>NaN</td>\n      <td>8.4</td>\n      <td>...</td>\n      <td>NaN</td>\n      <td>NaN</td>\n      <td>NaN</td>\n      <td>NaN</td>\n      <td>2005.0</td>\n      <td>NaN</td>\n      <td>http://www.vgchartz.com/game/1657/nintendogs/?...</td>\n      <td>1</td>\n      <td>NaN</td>\n      <td>/games/boxart/full_4870931AmericaFrontccc.jpg</td>\n    </tr>\n    <tr>\n      <th>14</th>\n      <td>15</td>\n      <td>Mario Kart DS</td>\n      <td>mario-kart-ds</td>\n      <td>Racing</td>\n      <td>E</td>\n      <td>DS</td>\n      <td>Nintendo</td>\n      <td>Nintendo EAD</td>\n      <td>NaN</td>\n      <td>9.1</td>\n      <td>...</td>\n      <td>NaN</td>\n      <td>NaN</td>\n      <td>NaN</td>\n      <td>NaN</td>\n      <td>2005.0</td>\n      <td>NaN</td>\n      <td>http://www.vgchartz.com/game/1254/mario-kart-d...</td>\n      <td>1</td>\n      <td>NaN</td>\n      <td>/games/boxart/full_9551652AmericaFrontccc.jpg</td>\n    </tr>\n  </tbody>\n</table>\n<p>15 rows × 23 columns</p>\n</div>"
     },
     "execution_count": 183,
     "metadata": {},
     "output_type": "execute_result"
    }
   ],
   "source": [
    "df_vg_names.head(15)"
   ],
   "metadata": {
    "collapsed": false,
    "pycharm": {
     "name": "#%%\n"
    }
   }
  },
  {
   "cell_type": "code",
   "execution_count": 184,
   "outputs": [
    {
     "data": {
      "text/plain": "                                                title  console  \\\n0                          Monster Jam Steel Titans 2        1   \n1                              Subnautica: Below Zero        1   \n2                   NIER REPLICANT VER.1.22474487139…        1   \n3                                          Jamestown+        0   \n4                              Neptunia Virtual Stars        0   \n5   Monster Energy Supercross - The Official Video...        1   \n6                                    Monochrome Order        0   \n7                                         Blightbound        1   \n8                                            Maquette        0   \n9                   FATAL FURY™ BATTLE ARCHIVES VOL.2        0   \n10                                        NBA LIVE 20        1   \n11                                       Golden Force        1   \n12                                           Dungreed        0   \n13                                    The End is Nigh        0   \n14                             Fallout 76: Steel Dawn        1   \n\n    alcohol_reference  animated_blood  blood  blood_and_gore  \\\n0                   0               0      0               0   \n1                   0               1      0               0   \n2                   0               0      1               0   \n3                   0               0      0               0   \n4                   0               0      0               0   \n5                   0               0      0               0   \n6                   0               0      1               0   \n7                   0               0      0               1   \n8                   1               0      0               0   \n9                   0               0      0               0   \n10                  0               0      0               0   \n11                  0               0      1               0   \n12                  1               0      0               0   \n13                  0               0      0               0   \n14                  0               0      0               1   \n\n    cartoon_violence  crude_humor  drug_reference  fantasy_violence  ...  \\\n0                  0            0               0                 0  ...   \n1                  0            0               0                 0  ...   \n2                  0            0               0                 0  ...   \n3                  0            0               0                 1  ...   \n4                  0            0               0                 1  ...   \n5                  0            0               0                 0  ...   \n6                  0            0               0                 0  ...   \n7                  0            0               0                 0  ...   \n8                  0            0               0                 0  ...   \n9                  0            0               0                 0  ...   \n10                 0            0               0                 0  ...   \n11                 0            0               0                 0  ...   \n12                 0            0               0                 0  ...   \n13                 0            0               0                 0  ...   \n14                 0            0               1                 0  ...   \n\n    sexual_content  sexual_themes  simulated_gambling  strong_janguage  \\\n0                0              0                   0                0   \n1                0              0                   0                0   \n2                0              0                   0                1   \n3                0              0                   0                0   \n4                0              0                   0                0   \n5                0              0                   0                0   \n6                0              0                   0                0   \n7                1              0                   0                0   \n8                0              0                   0                0   \n9                0              0                   0                0   \n10               0              0                   0                0   \n11               0              0                   0                1   \n12               0              0                   0                0   \n13               0              0                   0                1   \n14               0              0                   0                1   \n\n    strong_sexual_content  suggestive_themes  use_of_alcohol  \\\n0                       0                  0               0   \n1                       0                  0               0   \n2                       0                  1               0   \n3                       0                  0               0   \n4                       0                  1               0   \n5                       0                  0               0   \n6                       0                  0               0   \n7                       0                  0               0   \n8                       0                  0               0   \n9                       0                  1               0   \n10                      0                  0               0   \n11                      0                  0               0   \n12                      1                  0               0   \n13                      0                  0               0   \n14                      0                  1               0   \n\n    use_of_drugs_and_alcohol  violence  esrb_rating  \n0                          0         0            E  \n1                          0         0           ET  \n2                          0         0            M  \n3                          0         0           ET  \n4                          0         0            T  \n5                          0         0            E  \n6                          0         1            T  \n7                          0         0            T  \n8                          0         0           ET  \n9                          0         0            T  \n10                         0         0            E  \n11                         0         0            M  \n12                         0         0           ET  \n13                         0         0            M  \n14                         0         0            M  \n\n[15 rows x 34 columns]",
      "text/html": "<div>\n<style scoped>\n    .dataframe tbody tr th:only-of-type {\n        vertical-align: middle;\n    }\n\n    .dataframe tbody tr th {\n        vertical-align: top;\n    }\n\n    .dataframe thead th {\n        text-align: right;\n    }\n</style>\n<table border=\"1\" class=\"dataframe\">\n  <thead>\n    <tr style=\"text-align: right;\">\n      <th></th>\n      <th>title</th>\n      <th>console</th>\n      <th>alcohol_reference</th>\n      <th>animated_blood</th>\n      <th>blood</th>\n      <th>blood_and_gore</th>\n      <th>cartoon_violence</th>\n      <th>crude_humor</th>\n      <th>drug_reference</th>\n      <th>fantasy_violence</th>\n      <th>...</th>\n      <th>sexual_content</th>\n      <th>sexual_themes</th>\n      <th>simulated_gambling</th>\n      <th>strong_janguage</th>\n      <th>strong_sexual_content</th>\n      <th>suggestive_themes</th>\n      <th>use_of_alcohol</th>\n      <th>use_of_drugs_and_alcohol</th>\n      <th>violence</th>\n      <th>esrb_rating</th>\n    </tr>\n  </thead>\n  <tbody>\n    <tr>\n      <th>0</th>\n      <td>Monster Jam Steel Titans 2</td>\n      <td>1</td>\n      <td>0</td>\n      <td>0</td>\n      <td>0</td>\n      <td>0</td>\n      <td>0</td>\n      <td>0</td>\n      <td>0</td>\n      <td>0</td>\n      <td>...</td>\n      <td>0</td>\n      <td>0</td>\n      <td>0</td>\n      <td>0</td>\n      <td>0</td>\n      <td>0</td>\n      <td>0</td>\n      <td>0</td>\n      <td>0</td>\n      <td>E</td>\n    </tr>\n    <tr>\n      <th>1</th>\n      <td>Subnautica: Below Zero</td>\n      <td>1</td>\n      <td>0</td>\n      <td>1</td>\n      <td>0</td>\n      <td>0</td>\n      <td>0</td>\n      <td>0</td>\n      <td>0</td>\n      <td>0</td>\n      <td>...</td>\n      <td>0</td>\n      <td>0</td>\n      <td>0</td>\n      <td>0</td>\n      <td>0</td>\n      <td>0</td>\n      <td>0</td>\n      <td>0</td>\n      <td>0</td>\n      <td>ET</td>\n    </tr>\n    <tr>\n      <th>2</th>\n      <td>NIER REPLICANT VER.1.22474487139…</td>\n      <td>1</td>\n      <td>0</td>\n      <td>0</td>\n      <td>1</td>\n      <td>0</td>\n      <td>0</td>\n      <td>0</td>\n      <td>0</td>\n      <td>0</td>\n      <td>...</td>\n      <td>0</td>\n      <td>0</td>\n      <td>0</td>\n      <td>1</td>\n      <td>0</td>\n      <td>1</td>\n      <td>0</td>\n      <td>0</td>\n      <td>0</td>\n      <td>M</td>\n    </tr>\n    <tr>\n      <th>3</th>\n      <td>Jamestown+</td>\n      <td>0</td>\n      <td>0</td>\n      <td>0</td>\n      <td>0</td>\n      <td>0</td>\n      <td>0</td>\n      <td>0</td>\n      <td>0</td>\n      <td>1</td>\n      <td>...</td>\n      <td>0</td>\n      <td>0</td>\n      <td>0</td>\n      <td>0</td>\n      <td>0</td>\n      <td>0</td>\n      <td>0</td>\n      <td>0</td>\n      <td>0</td>\n      <td>ET</td>\n    </tr>\n    <tr>\n      <th>4</th>\n      <td>Neptunia Virtual Stars</td>\n      <td>0</td>\n      <td>0</td>\n      <td>0</td>\n      <td>0</td>\n      <td>0</td>\n      <td>0</td>\n      <td>0</td>\n      <td>0</td>\n      <td>1</td>\n      <td>...</td>\n      <td>0</td>\n      <td>0</td>\n      <td>0</td>\n      <td>0</td>\n      <td>0</td>\n      <td>1</td>\n      <td>0</td>\n      <td>0</td>\n      <td>0</td>\n      <td>T</td>\n    </tr>\n    <tr>\n      <th>5</th>\n      <td>Monster Energy Supercross - The Official Video...</td>\n      <td>1</td>\n      <td>0</td>\n      <td>0</td>\n      <td>0</td>\n      <td>0</td>\n      <td>0</td>\n      <td>0</td>\n      <td>0</td>\n      <td>0</td>\n      <td>...</td>\n      <td>0</td>\n      <td>0</td>\n      <td>0</td>\n      <td>0</td>\n      <td>0</td>\n      <td>0</td>\n      <td>0</td>\n      <td>0</td>\n      <td>0</td>\n      <td>E</td>\n    </tr>\n    <tr>\n      <th>6</th>\n      <td>Monochrome Order</td>\n      <td>0</td>\n      <td>0</td>\n      <td>0</td>\n      <td>1</td>\n      <td>0</td>\n      <td>0</td>\n      <td>0</td>\n      <td>0</td>\n      <td>0</td>\n      <td>...</td>\n      <td>0</td>\n      <td>0</td>\n      <td>0</td>\n      <td>0</td>\n      <td>0</td>\n      <td>0</td>\n      <td>0</td>\n      <td>0</td>\n      <td>1</td>\n      <td>T</td>\n    </tr>\n    <tr>\n      <th>7</th>\n      <td>Blightbound</td>\n      <td>1</td>\n      <td>0</td>\n      <td>0</td>\n      <td>0</td>\n      <td>1</td>\n      <td>0</td>\n      <td>0</td>\n      <td>0</td>\n      <td>0</td>\n      <td>...</td>\n      <td>1</td>\n      <td>0</td>\n      <td>0</td>\n      <td>0</td>\n      <td>0</td>\n      <td>0</td>\n      <td>0</td>\n      <td>0</td>\n      <td>0</td>\n      <td>T</td>\n    </tr>\n    <tr>\n      <th>8</th>\n      <td>Maquette</td>\n      <td>0</td>\n      <td>1</td>\n      <td>0</td>\n      <td>0</td>\n      <td>0</td>\n      <td>0</td>\n      <td>0</td>\n      <td>0</td>\n      <td>0</td>\n      <td>...</td>\n      <td>0</td>\n      <td>0</td>\n      <td>0</td>\n      <td>0</td>\n      <td>0</td>\n      <td>0</td>\n      <td>0</td>\n      <td>0</td>\n      <td>0</td>\n      <td>ET</td>\n    </tr>\n    <tr>\n      <th>9</th>\n      <td>FATAL FURY™ BATTLE ARCHIVES VOL.2</td>\n      <td>0</td>\n      <td>0</td>\n      <td>0</td>\n      <td>0</td>\n      <td>0</td>\n      <td>0</td>\n      <td>0</td>\n      <td>0</td>\n      <td>0</td>\n      <td>...</td>\n      <td>0</td>\n      <td>0</td>\n      <td>0</td>\n      <td>0</td>\n      <td>0</td>\n      <td>1</td>\n      <td>0</td>\n      <td>0</td>\n      <td>0</td>\n      <td>T</td>\n    </tr>\n    <tr>\n      <th>10</th>\n      <td>NBA LIVE 20</td>\n      <td>1</td>\n      <td>0</td>\n      <td>0</td>\n      <td>0</td>\n      <td>0</td>\n      <td>0</td>\n      <td>0</td>\n      <td>0</td>\n      <td>0</td>\n      <td>...</td>\n      <td>0</td>\n      <td>0</td>\n      <td>0</td>\n      <td>0</td>\n      <td>0</td>\n      <td>0</td>\n      <td>0</td>\n      <td>0</td>\n      <td>0</td>\n      <td>E</td>\n    </tr>\n    <tr>\n      <th>11</th>\n      <td>Golden Force</td>\n      <td>1</td>\n      <td>0</td>\n      <td>0</td>\n      <td>1</td>\n      <td>0</td>\n      <td>0</td>\n      <td>0</td>\n      <td>0</td>\n      <td>0</td>\n      <td>...</td>\n      <td>0</td>\n      <td>0</td>\n      <td>0</td>\n      <td>1</td>\n      <td>0</td>\n      <td>0</td>\n      <td>0</td>\n      <td>0</td>\n      <td>0</td>\n      <td>M</td>\n    </tr>\n    <tr>\n      <th>12</th>\n      <td>Dungreed</td>\n      <td>0</td>\n      <td>1</td>\n      <td>0</td>\n      <td>0</td>\n      <td>0</td>\n      <td>0</td>\n      <td>0</td>\n      <td>0</td>\n      <td>0</td>\n      <td>...</td>\n      <td>0</td>\n      <td>0</td>\n      <td>0</td>\n      <td>0</td>\n      <td>1</td>\n      <td>0</td>\n      <td>0</td>\n      <td>0</td>\n      <td>0</td>\n      <td>ET</td>\n    </tr>\n    <tr>\n      <th>13</th>\n      <td>The End is Nigh</td>\n      <td>0</td>\n      <td>0</td>\n      <td>0</td>\n      <td>0</td>\n      <td>0</td>\n      <td>0</td>\n      <td>0</td>\n      <td>0</td>\n      <td>0</td>\n      <td>...</td>\n      <td>0</td>\n      <td>0</td>\n      <td>0</td>\n      <td>1</td>\n      <td>0</td>\n      <td>0</td>\n      <td>0</td>\n      <td>0</td>\n      <td>0</td>\n      <td>M</td>\n    </tr>\n    <tr>\n      <th>14</th>\n      <td>Fallout 76: Steel Dawn</td>\n      <td>1</td>\n      <td>0</td>\n      <td>0</td>\n      <td>0</td>\n      <td>1</td>\n      <td>0</td>\n      <td>0</td>\n      <td>1</td>\n      <td>0</td>\n      <td>...</td>\n      <td>0</td>\n      <td>0</td>\n      <td>0</td>\n      <td>1</td>\n      <td>0</td>\n      <td>1</td>\n      <td>0</td>\n      <td>0</td>\n      <td>0</td>\n      <td>M</td>\n    </tr>\n  </tbody>\n</table>\n<p>15 rows × 34 columns</p>\n</div>"
     },
     "execution_count": 184,
     "metadata": {},
     "output_type": "execute_result"
    }
   ],
   "source": [
    "df_vg_ersb.head(15)"
   ],
   "metadata": {
    "collapsed": false,
    "pycharm": {
     "name": "#%%\n"
    }
   }
  },
  {
   "cell_type": "code",
   "execution_count": 185,
   "outputs": [
    {
     "data": {
      "text/plain": "    Rank                         Name Platform    Year         Genre  \\\n0      1                   Wii Sports      Wii  2006.0        Sports   \n1      2            Super Mario Bros.      NES  1985.0      Platform   \n2      3               Mario Kart Wii      Wii  2008.0        Racing   \n3      4            Wii Sports Resort      Wii  2009.0        Sports   \n4      5     Pokemon Red/Pokemon Blue       GB  1996.0  Role-Playing   \n5      6                       Tetris       GB  1989.0        Puzzle   \n6      7        New Super Mario Bros.       DS  2006.0      Platform   \n7      8                     Wii Play      Wii  2006.0          Misc   \n8      9    New Super Mario Bros. Wii      Wii  2009.0      Platform   \n9     10                    Duck Hunt      NES  1984.0       Shooter   \n10    11                   Nintendogs       DS  2005.0    Simulation   \n11    12                Mario Kart DS       DS  2005.0        Racing   \n12    13  Pokemon Gold/Pokemon Silver       GB  1999.0  Role-Playing   \n13    14                      Wii Fit      Wii  2007.0        Sports   \n14    15                 Wii Fit Plus      Wii  2009.0        Sports   \n\n   Publisher  NA_Sales  EU_Sales  JP_Sales  Other_Sales  Global_Sales  \n0   Nintendo     41.49     29.02      3.77         8.46         82.74  \n1   Nintendo     29.08      3.58      6.81         0.77         40.24  \n2   Nintendo     15.85     12.88      3.79         3.31         35.82  \n3   Nintendo     15.75     11.01      3.28         2.96         33.00  \n4   Nintendo     11.27      8.89     10.22         1.00         31.37  \n5   Nintendo     23.20      2.26      4.22         0.58         30.26  \n6   Nintendo     11.38      9.23      6.50         2.90         30.01  \n7   Nintendo     14.03      9.20      2.93         2.85         29.02  \n8   Nintendo     14.59      7.06      4.70         2.26         28.62  \n9   Nintendo     26.93      0.63      0.28         0.47         28.31  \n10  Nintendo      9.07     11.00      1.93         2.75         24.76  \n11  Nintendo      9.81      7.57      4.13         1.92         23.42  \n12  Nintendo      9.00      6.18      7.20         0.71         23.10  \n13  Nintendo      8.94      8.03      3.60         2.15         22.72  \n14  Nintendo      9.09      8.59      2.53         1.79         22.00  ",
      "text/html": "<div>\n<style scoped>\n    .dataframe tbody tr th:only-of-type {\n        vertical-align: middle;\n    }\n\n    .dataframe tbody tr th {\n        vertical-align: top;\n    }\n\n    .dataframe thead th {\n        text-align: right;\n    }\n</style>\n<table border=\"1\" class=\"dataframe\">\n  <thead>\n    <tr style=\"text-align: right;\">\n      <th></th>\n      <th>Rank</th>\n      <th>Name</th>\n      <th>Platform</th>\n      <th>Year</th>\n      <th>Genre</th>\n      <th>Publisher</th>\n      <th>NA_Sales</th>\n      <th>EU_Sales</th>\n      <th>JP_Sales</th>\n      <th>Other_Sales</th>\n      <th>Global_Sales</th>\n    </tr>\n  </thead>\n  <tbody>\n    <tr>\n      <th>0</th>\n      <td>1</td>\n      <td>Wii Sports</td>\n      <td>Wii</td>\n      <td>2006.0</td>\n      <td>Sports</td>\n      <td>Nintendo</td>\n      <td>41.49</td>\n      <td>29.02</td>\n      <td>3.77</td>\n      <td>8.46</td>\n      <td>82.74</td>\n    </tr>\n    <tr>\n      <th>1</th>\n      <td>2</td>\n      <td>Super Mario Bros.</td>\n      <td>NES</td>\n      <td>1985.0</td>\n      <td>Platform</td>\n      <td>Nintendo</td>\n      <td>29.08</td>\n      <td>3.58</td>\n      <td>6.81</td>\n      <td>0.77</td>\n      <td>40.24</td>\n    </tr>\n    <tr>\n      <th>2</th>\n      <td>3</td>\n      <td>Mario Kart Wii</td>\n      <td>Wii</td>\n      <td>2008.0</td>\n      <td>Racing</td>\n      <td>Nintendo</td>\n      <td>15.85</td>\n      <td>12.88</td>\n      <td>3.79</td>\n      <td>3.31</td>\n      <td>35.82</td>\n    </tr>\n    <tr>\n      <th>3</th>\n      <td>4</td>\n      <td>Wii Sports Resort</td>\n      <td>Wii</td>\n      <td>2009.0</td>\n      <td>Sports</td>\n      <td>Nintendo</td>\n      <td>15.75</td>\n      <td>11.01</td>\n      <td>3.28</td>\n      <td>2.96</td>\n      <td>33.00</td>\n    </tr>\n    <tr>\n      <th>4</th>\n      <td>5</td>\n      <td>Pokemon Red/Pokemon Blue</td>\n      <td>GB</td>\n      <td>1996.0</td>\n      <td>Role-Playing</td>\n      <td>Nintendo</td>\n      <td>11.27</td>\n      <td>8.89</td>\n      <td>10.22</td>\n      <td>1.00</td>\n      <td>31.37</td>\n    </tr>\n    <tr>\n      <th>5</th>\n      <td>6</td>\n      <td>Tetris</td>\n      <td>GB</td>\n      <td>1989.0</td>\n      <td>Puzzle</td>\n      <td>Nintendo</td>\n      <td>23.20</td>\n      <td>2.26</td>\n      <td>4.22</td>\n      <td>0.58</td>\n      <td>30.26</td>\n    </tr>\n    <tr>\n      <th>6</th>\n      <td>7</td>\n      <td>New Super Mario Bros.</td>\n      <td>DS</td>\n      <td>2006.0</td>\n      <td>Platform</td>\n      <td>Nintendo</td>\n      <td>11.38</td>\n      <td>9.23</td>\n      <td>6.50</td>\n      <td>2.90</td>\n      <td>30.01</td>\n    </tr>\n    <tr>\n      <th>7</th>\n      <td>8</td>\n      <td>Wii Play</td>\n      <td>Wii</td>\n      <td>2006.0</td>\n      <td>Misc</td>\n      <td>Nintendo</td>\n      <td>14.03</td>\n      <td>9.20</td>\n      <td>2.93</td>\n      <td>2.85</td>\n      <td>29.02</td>\n    </tr>\n    <tr>\n      <th>8</th>\n      <td>9</td>\n      <td>New Super Mario Bros. Wii</td>\n      <td>Wii</td>\n      <td>2009.0</td>\n      <td>Platform</td>\n      <td>Nintendo</td>\n      <td>14.59</td>\n      <td>7.06</td>\n      <td>4.70</td>\n      <td>2.26</td>\n      <td>28.62</td>\n    </tr>\n    <tr>\n      <th>9</th>\n      <td>10</td>\n      <td>Duck Hunt</td>\n      <td>NES</td>\n      <td>1984.0</td>\n      <td>Shooter</td>\n      <td>Nintendo</td>\n      <td>26.93</td>\n      <td>0.63</td>\n      <td>0.28</td>\n      <td>0.47</td>\n      <td>28.31</td>\n    </tr>\n    <tr>\n      <th>10</th>\n      <td>11</td>\n      <td>Nintendogs</td>\n      <td>DS</td>\n      <td>2005.0</td>\n      <td>Simulation</td>\n      <td>Nintendo</td>\n      <td>9.07</td>\n      <td>11.00</td>\n      <td>1.93</td>\n      <td>2.75</td>\n      <td>24.76</td>\n    </tr>\n    <tr>\n      <th>11</th>\n      <td>12</td>\n      <td>Mario Kart DS</td>\n      <td>DS</td>\n      <td>2005.0</td>\n      <td>Racing</td>\n      <td>Nintendo</td>\n      <td>9.81</td>\n      <td>7.57</td>\n      <td>4.13</td>\n      <td>1.92</td>\n      <td>23.42</td>\n    </tr>\n    <tr>\n      <th>12</th>\n      <td>13</td>\n      <td>Pokemon Gold/Pokemon Silver</td>\n      <td>GB</td>\n      <td>1999.0</td>\n      <td>Role-Playing</td>\n      <td>Nintendo</td>\n      <td>9.00</td>\n      <td>6.18</td>\n      <td>7.20</td>\n      <td>0.71</td>\n      <td>23.10</td>\n    </tr>\n    <tr>\n      <th>13</th>\n      <td>14</td>\n      <td>Wii Fit</td>\n      <td>Wii</td>\n      <td>2007.0</td>\n      <td>Sports</td>\n      <td>Nintendo</td>\n      <td>8.94</td>\n      <td>8.03</td>\n      <td>3.60</td>\n      <td>2.15</td>\n      <td>22.72</td>\n    </tr>\n    <tr>\n      <th>14</th>\n      <td>15</td>\n      <td>Wii Fit Plus</td>\n      <td>Wii</td>\n      <td>2009.0</td>\n      <td>Sports</td>\n      <td>Nintendo</td>\n      <td>9.09</td>\n      <td>8.59</td>\n      <td>2.53</td>\n      <td>1.79</td>\n      <td>22.00</td>\n    </tr>\n  </tbody>\n</table>\n</div>"
     },
     "execution_count": 185,
     "metadata": {},
     "output_type": "execute_result"
    }
   ],
   "source": [
    "df_vg_sales.head(15)"
   ],
   "metadata": {
    "collapsed": false,
    "pycharm": {
     "name": "#%%\n"
    }
   }
  },
  {
   "cell_type": "code",
   "execution_count": 186,
   "outputs": [
    {
     "name": "stdout",
     "output_type": "stream",
     "text": [
      "Shape of df_vg_names is (55792, 23)\n",
      "Shape of df_vg_ersb is (1895, 34)\n",
      "Shape of df_vg_sales is (16598, 11)\n"
     ]
    }
   ],
   "source": [
    "print(f\"Shape of df_vg_names is {df_vg_names.shape}\")\n",
    "print(f\"Shape of df_vg_ersb is {df_vg_ersb.shape}\")\n",
    "print(f\"Shape of df_vg_sales is {df_vg_sales.shape}\")"
   ],
   "metadata": {
    "collapsed": false,
    "pycharm": {
     "name": "#%%\n"
    }
   }
  },
  {
   "cell_type": "code",
   "execution_count": 187,
   "outputs": [
    {
     "data": {
      "text/plain": "Index(['Rank', 'Name', 'basename', 'Genre', 'ESRB_Rating', 'Platform',\n       'Publisher', 'Developer', 'VGChartz_Score', 'Critic_Score',\n       'User_Score', 'Total_Shipped', 'Global_Sales', 'NA_Sales', 'PAL_Sales',\n       'JP_Sales', 'Other_Sales', 'Year', 'Last_Update', 'url', 'status',\n       'Vgchartzscore', 'img_url'],\n      dtype='object')"
     },
     "execution_count": 187,
     "metadata": {},
     "output_type": "execute_result"
    }
   ],
   "source": [
    "df_vg_names.columns"
   ],
   "metadata": {
    "collapsed": false,
    "pycharm": {
     "name": "#%%\n"
    }
   }
  },
  {
   "cell_type": "code",
   "execution_count": 188,
   "outputs": [
    {
     "data": {
      "text/plain": "Index(['title', 'console', 'alcohol_reference', 'animated_blood', 'blood',\n       'blood_and_gore', 'cartoon_violence', 'crude_humor', 'drug_reference',\n       'fantasy_violence', 'intense_violence', 'language', 'lyrics',\n       'mature_humor', 'mild_blood', 'mild_cartoon_violence',\n       'mild_fantasy_violence', 'mild_language', 'mild_lyrics',\n       'mild_suggestive_themes', 'mild_violence', 'no_descriptors', 'nudity',\n       'partial_nudity', 'sexual_content', 'sexual_themes',\n       'simulated_gambling', 'strong_janguage', 'strong_sexual_content',\n       'suggestive_themes', 'use_of_alcohol', 'use_of_drugs_and_alcohol',\n       'violence', 'esrb_rating'],\n      dtype='object')"
     },
     "execution_count": 188,
     "metadata": {},
     "output_type": "execute_result"
    }
   ],
   "source": [
    "df_vg_ersb.columns"
   ],
   "metadata": {
    "collapsed": false,
    "pycharm": {
     "name": "#%%\n"
    }
   }
  },
  {
   "cell_type": "code",
   "execution_count": 189,
   "outputs": [
    {
     "data": {
      "text/plain": "Index(['Rank', 'Name', 'Platform', 'Year', 'Genre', 'Publisher', 'NA_Sales',\n       'EU_Sales', 'JP_Sales', 'Other_Sales', 'Global_Sales'],\n      dtype='object')"
     },
     "execution_count": 189,
     "metadata": {},
     "output_type": "execute_result"
    }
   ],
   "source": [
    "df_vg_sales.columns"
   ],
   "metadata": {
    "collapsed": false,
    "pycharm": {
     "name": "#%%\n"
    }
   }
  },
  {
   "cell_type": "code",
   "execution_count": 190,
   "outputs": [],
   "source": [
    "def percent_missing_func(df_input):\n",
    "    percent_missing = df_input.isnull().sum() * 100 / len(df_input)\n",
    "    missing_value_df = pd.DataFrame({'percent_missing': percent_missing})\n",
    "    return missing_value_df"
   ],
   "metadata": {
    "collapsed": false,
    "pycharm": {
     "name": "#%%\n"
    }
   }
  },
  {
   "cell_type": "code",
   "execution_count": 191,
   "outputs": [
    {
     "data": {
      "text/plain": "                percent_missing\nRank                   0.000000\nName                   0.000000\nbasename               0.000000\nGenre                  0.000000\nESRB_Rating           57.658804\nPlatform               0.000000\nPublisher              0.000000\nDeveloper              0.030470\nVGChartz_Score       100.000000\nCritic_Score          88.285059\nUser_Score            99.399555\nTotal_Shipped         96.725337\nGlobal_Sales          65.201104\nNA_Sales              76.763694\nPAL_Sales             76.360410\nJP_Sales              87.376326\nOther_Sales           72.178807\nYear                   1.754732\nLast_Update           83.535274\nurl                    0.000000\nstatus                 0.000000\nVgchartzscore         98.567895\nimg_url                0.000000",
      "text/html": "<div>\n<style scoped>\n    .dataframe tbody tr th:only-of-type {\n        vertical-align: middle;\n    }\n\n    .dataframe tbody tr th {\n        vertical-align: top;\n    }\n\n    .dataframe thead th {\n        text-align: right;\n    }\n</style>\n<table border=\"1\" class=\"dataframe\">\n  <thead>\n    <tr style=\"text-align: right;\">\n      <th></th>\n      <th>percent_missing</th>\n    </tr>\n  </thead>\n  <tbody>\n    <tr>\n      <th>Rank</th>\n      <td>0.000000</td>\n    </tr>\n    <tr>\n      <th>Name</th>\n      <td>0.000000</td>\n    </tr>\n    <tr>\n      <th>basename</th>\n      <td>0.000000</td>\n    </tr>\n    <tr>\n      <th>Genre</th>\n      <td>0.000000</td>\n    </tr>\n    <tr>\n      <th>ESRB_Rating</th>\n      <td>57.658804</td>\n    </tr>\n    <tr>\n      <th>Platform</th>\n      <td>0.000000</td>\n    </tr>\n    <tr>\n      <th>Publisher</th>\n      <td>0.000000</td>\n    </tr>\n    <tr>\n      <th>Developer</th>\n      <td>0.030470</td>\n    </tr>\n    <tr>\n      <th>VGChartz_Score</th>\n      <td>100.000000</td>\n    </tr>\n    <tr>\n      <th>Critic_Score</th>\n      <td>88.285059</td>\n    </tr>\n    <tr>\n      <th>User_Score</th>\n      <td>99.399555</td>\n    </tr>\n    <tr>\n      <th>Total_Shipped</th>\n      <td>96.725337</td>\n    </tr>\n    <tr>\n      <th>Global_Sales</th>\n      <td>65.201104</td>\n    </tr>\n    <tr>\n      <th>NA_Sales</th>\n      <td>76.763694</td>\n    </tr>\n    <tr>\n      <th>PAL_Sales</th>\n      <td>76.360410</td>\n    </tr>\n    <tr>\n      <th>JP_Sales</th>\n      <td>87.376326</td>\n    </tr>\n    <tr>\n      <th>Other_Sales</th>\n      <td>72.178807</td>\n    </tr>\n    <tr>\n      <th>Year</th>\n      <td>1.754732</td>\n    </tr>\n    <tr>\n      <th>Last_Update</th>\n      <td>83.535274</td>\n    </tr>\n    <tr>\n      <th>url</th>\n      <td>0.000000</td>\n    </tr>\n    <tr>\n      <th>status</th>\n      <td>0.000000</td>\n    </tr>\n    <tr>\n      <th>Vgchartzscore</th>\n      <td>98.567895</td>\n    </tr>\n    <tr>\n      <th>img_url</th>\n      <td>0.000000</td>\n    </tr>\n  </tbody>\n</table>\n</div>"
     },
     "execution_count": 191,
     "metadata": {},
     "output_type": "execute_result"
    }
   ],
   "source": [
    "percent_missing_func(df_vg_names)"
   ],
   "metadata": {
    "collapsed": false,
    "pycharm": {
     "name": "#%%\n"
    }
   }
  },
  {
   "cell_type": "code",
   "execution_count": 192,
   "outputs": [],
   "source": [
    "df = pd.merge(df_vg_names, df_vg_ersb, how=\"left\", left_on=\"Name\", right_on=\"title\" )"
   ],
   "metadata": {
    "collapsed": false,
    "pycharm": {
     "name": "#%%\n"
    }
   }
  },
  {
   "cell_type": "code",
   "execution_count": 193,
   "outputs": [
    {
     "data": {
      "text/plain": "(55792, 57)"
     },
     "execution_count": 193,
     "metadata": {},
     "output_type": "execute_result"
    }
   ],
   "source": [
    "df.shape"
   ],
   "metadata": {
    "collapsed": false,
    "pycharm": {
     "name": "#%%\n"
    }
   }
  },
  {
   "cell_type": "code",
   "execution_count": 194,
   "outputs": [
    {
     "data": {
      "text/plain": "Index(['Rank', 'Name', 'basename', 'Genre', 'ESRB_Rating', 'Platform',\n       'Publisher', 'Developer', 'VGChartz_Score', 'Critic_Score',\n       'User_Score', 'Total_Shipped', 'Global_Sales', 'NA_Sales', 'PAL_Sales',\n       'JP_Sales', 'Other_Sales', 'Year', 'Last_Update', 'url', 'status',\n       'Vgchartzscore', 'img_url', 'title', 'console', 'alcohol_reference',\n       'animated_blood', 'blood', 'blood_and_gore', 'cartoon_violence',\n       'crude_humor', 'drug_reference', 'fantasy_violence', 'intense_violence',\n       'language', 'lyrics', 'mature_humor', 'mild_blood',\n       'mild_cartoon_violence', 'mild_fantasy_violence', 'mild_language',\n       'mild_lyrics', 'mild_suggestive_themes', 'mild_violence',\n       'no_descriptors', 'nudity', 'partial_nudity', 'sexual_content',\n       'sexual_themes', 'simulated_gambling', 'strong_janguage',\n       'strong_sexual_content', 'suggestive_themes', 'use_of_alcohol',\n       'use_of_drugs_and_alcohol', 'violence', 'esrb_rating'],\n      dtype='object')"
     },
     "execution_count": 194,
     "metadata": {},
     "output_type": "execute_result"
    }
   ],
   "source": [
    "df.columns"
   ],
   "metadata": {
    "collapsed": false,
    "pycharm": {
     "name": "#%%\n"
    }
   }
  },
  {
   "cell_type": "code",
   "execution_count": 195,
   "outputs": [
    {
     "data": {
      "text/plain": "   Rank                                Name                      basename  \\\n0     1                          Wii Sports                    wii-sports   \n1     2                   Super Mario Bros.              super-mario-bros   \n2     3                      Mario Kart Wii                mario-kart-wii   \n3     4       PlayerUnknown's Battlegrounds  playerunknowns-battlegrounds   \n4     5                   Wii Sports Resort             wii-sports-resort   \n5     6  Pokemon Red / Green / Blue Version                    pokmon-red   \n6     7               New Super Mario Bros.          new-super-mario-bros   \n7     8                              Tetris                        tetris   \n8     9           New Super Mario Bros. Wii      new-super-mario-bros-wii   \n9    10                           Minecraft                     minecraft   \n\n          Genre ESRB_Rating Platform         Publisher              Developer  \\\n0        Sports           E      Wii          Nintendo           Nintendo EAD   \n1      Platform         NaN      NES          Nintendo           Nintendo EAD   \n2        Racing           E      Wii          Nintendo           Nintendo EAD   \n3       Shooter         NaN       PC  PUBG Corporation       PUBG Corporation   \n4        Sports           E      Wii          Nintendo           Nintendo EAD   \n5  Role-Playing           E       GB          Nintendo             Game Freak   \n6      Platform           E       DS          Nintendo           Nintendo EAD   \n7        Puzzle           E       GB          Nintendo  Bullet Proof Software   \n8      Platform           E      Wii          Nintendo           Nintendo EAD   \n9          Misc         NaN       PC            Mojang              Mojang AB   \n\n   VGChartz_Score  Critic_Score  ...  sexual_content  sexual_themes  \\\n0             NaN           7.7  ...             NaN            NaN   \n1             NaN          10.0  ...             NaN            NaN   \n2             NaN           8.2  ...             NaN            NaN   \n3             NaN           NaN  ...             NaN            NaN   \n4             NaN           8.0  ...             NaN            NaN   \n5             NaN           9.4  ...             NaN            NaN   \n6             NaN           9.1  ...             NaN            NaN   \n7             NaN           NaN  ...             NaN            NaN   \n8             NaN           8.6  ...             NaN            NaN   \n9             NaN          10.0  ...             0.0            0.0   \n\n   simulated_gambling  strong_janguage  strong_sexual_content  \\\n0                 NaN              NaN                    NaN   \n1                 NaN              NaN                    NaN   \n2                 NaN              NaN                    NaN   \n3                 NaN              NaN                    NaN   \n4                 NaN              NaN                    NaN   \n5                 NaN              NaN                    NaN   \n6                 NaN              NaN                    NaN   \n7                 NaN              NaN                    NaN   \n8                 NaN              NaN                    NaN   \n9                 0.0              0.0                    0.0   \n\n   suggestive_themes  use_of_alcohol  use_of_drugs_and_alcohol violence  \\\n0                NaN             NaN                       NaN      NaN   \n1                NaN             NaN                       NaN      NaN   \n2                NaN             NaN                       NaN      NaN   \n3                NaN             NaN                       NaN      NaN   \n4                NaN             NaN                       NaN      NaN   \n5                NaN             NaN                       NaN      NaN   \n6                NaN             NaN                       NaN      NaN   \n7                NaN             NaN                       NaN      NaN   \n8                NaN             NaN                       NaN      NaN   \n9                0.0             0.0                       0.0      0.0   \n\n  esrb_rating  \n0         NaN  \n1         NaN  \n2         NaN  \n3         NaN  \n4         NaN  \n5         NaN  \n6         NaN  \n7         NaN  \n8         NaN  \n9          ET  \n\n[10 rows x 57 columns]",
      "text/html": "<div>\n<style scoped>\n    .dataframe tbody tr th:only-of-type {\n        vertical-align: middle;\n    }\n\n    .dataframe tbody tr th {\n        vertical-align: top;\n    }\n\n    .dataframe thead th {\n        text-align: right;\n    }\n</style>\n<table border=\"1\" class=\"dataframe\">\n  <thead>\n    <tr style=\"text-align: right;\">\n      <th></th>\n      <th>Rank</th>\n      <th>Name</th>\n      <th>basename</th>\n      <th>Genre</th>\n      <th>ESRB_Rating</th>\n      <th>Platform</th>\n      <th>Publisher</th>\n      <th>Developer</th>\n      <th>VGChartz_Score</th>\n      <th>Critic_Score</th>\n      <th>...</th>\n      <th>sexual_content</th>\n      <th>sexual_themes</th>\n      <th>simulated_gambling</th>\n      <th>strong_janguage</th>\n      <th>strong_sexual_content</th>\n      <th>suggestive_themes</th>\n      <th>use_of_alcohol</th>\n      <th>use_of_drugs_and_alcohol</th>\n      <th>violence</th>\n      <th>esrb_rating</th>\n    </tr>\n  </thead>\n  <tbody>\n    <tr>\n      <th>0</th>\n      <td>1</td>\n      <td>Wii Sports</td>\n      <td>wii-sports</td>\n      <td>Sports</td>\n      <td>E</td>\n      <td>Wii</td>\n      <td>Nintendo</td>\n      <td>Nintendo EAD</td>\n      <td>NaN</td>\n      <td>7.7</td>\n      <td>...</td>\n      <td>NaN</td>\n      <td>NaN</td>\n      <td>NaN</td>\n      <td>NaN</td>\n      <td>NaN</td>\n      <td>NaN</td>\n      <td>NaN</td>\n      <td>NaN</td>\n      <td>NaN</td>\n      <td>NaN</td>\n    </tr>\n    <tr>\n      <th>1</th>\n      <td>2</td>\n      <td>Super Mario Bros.</td>\n      <td>super-mario-bros</td>\n      <td>Platform</td>\n      <td>NaN</td>\n      <td>NES</td>\n      <td>Nintendo</td>\n      <td>Nintendo EAD</td>\n      <td>NaN</td>\n      <td>10.0</td>\n      <td>...</td>\n      <td>NaN</td>\n      <td>NaN</td>\n      <td>NaN</td>\n      <td>NaN</td>\n      <td>NaN</td>\n      <td>NaN</td>\n      <td>NaN</td>\n      <td>NaN</td>\n      <td>NaN</td>\n      <td>NaN</td>\n    </tr>\n    <tr>\n      <th>2</th>\n      <td>3</td>\n      <td>Mario Kart Wii</td>\n      <td>mario-kart-wii</td>\n      <td>Racing</td>\n      <td>E</td>\n      <td>Wii</td>\n      <td>Nintendo</td>\n      <td>Nintendo EAD</td>\n      <td>NaN</td>\n      <td>8.2</td>\n      <td>...</td>\n      <td>NaN</td>\n      <td>NaN</td>\n      <td>NaN</td>\n      <td>NaN</td>\n      <td>NaN</td>\n      <td>NaN</td>\n      <td>NaN</td>\n      <td>NaN</td>\n      <td>NaN</td>\n      <td>NaN</td>\n    </tr>\n    <tr>\n      <th>3</th>\n      <td>4</td>\n      <td>PlayerUnknown's Battlegrounds</td>\n      <td>playerunknowns-battlegrounds</td>\n      <td>Shooter</td>\n      <td>NaN</td>\n      <td>PC</td>\n      <td>PUBG Corporation</td>\n      <td>PUBG Corporation</td>\n      <td>NaN</td>\n      <td>NaN</td>\n      <td>...</td>\n      <td>NaN</td>\n      <td>NaN</td>\n      <td>NaN</td>\n      <td>NaN</td>\n      <td>NaN</td>\n      <td>NaN</td>\n      <td>NaN</td>\n      <td>NaN</td>\n      <td>NaN</td>\n      <td>NaN</td>\n    </tr>\n    <tr>\n      <th>4</th>\n      <td>5</td>\n      <td>Wii Sports Resort</td>\n      <td>wii-sports-resort</td>\n      <td>Sports</td>\n      <td>E</td>\n      <td>Wii</td>\n      <td>Nintendo</td>\n      <td>Nintendo EAD</td>\n      <td>NaN</td>\n      <td>8.0</td>\n      <td>...</td>\n      <td>NaN</td>\n      <td>NaN</td>\n      <td>NaN</td>\n      <td>NaN</td>\n      <td>NaN</td>\n      <td>NaN</td>\n      <td>NaN</td>\n      <td>NaN</td>\n      <td>NaN</td>\n      <td>NaN</td>\n    </tr>\n    <tr>\n      <th>5</th>\n      <td>6</td>\n      <td>Pokemon Red / Green / Blue Version</td>\n      <td>pokmon-red</td>\n      <td>Role-Playing</td>\n      <td>E</td>\n      <td>GB</td>\n      <td>Nintendo</td>\n      <td>Game Freak</td>\n      <td>NaN</td>\n      <td>9.4</td>\n      <td>...</td>\n      <td>NaN</td>\n      <td>NaN</td>\n      <td>NaN</td>\n      <td>NaN</td>\n      <td>NaN</td>\n      <td>NaN</td>\n      <td>NaN</td>\n      <td>NaN</td>\n      <td>NaN</td>\n      <td>NaN</td>\n    </tr>\n    <tr>\n      <th>6</th>\n      <td>7</td>\n      <td>New Super Mario Bros.</td>\n      <td>new-super-mario-bros</td>\n      <td>Platform</td>\n      <td>E</td>\n      <td>DS</td>\n      <td>Nintendo</td>\n      <td>Nintendo EAD</td>\n      <td>NaN</td>\n      <td>9.1</td>\n      <td>...</td>\n      <td>NaN</td>\n      <td>NaN</td>\n      <td>NaN</td>\n      <td>NaN</td>\n      <td>NaN</td>\n      <td>NaN</td>\n      <td>NaN</td>\n      <td>NaN</td>\n      <td>NaN</td>\n      <td>NaN</td>\n    </tr>\n    <tr>\n      <th>7</th>\n      <td>8</td>\n      <td>Tetris</td>\n      <td>tetris</td>\n      <td>Puzzle</td>\n      <td>E</td>\n      <td>GB</td>\n      <td>Nintendo</td>\n      <td>Bullet Proof Software</td>\n      <td>NaN</td>\n      <td>NaN</td>\n      <td>...</td>\n      <td>NaN</td>\n      <td>NaN</td>\n      <td>NaN</td>\n      <td>NaN</td>\n      <td>NaN</td>\n      <td>NaN</td>\n      <td>NaN</td>\n      <td>NaN</td>\n      <td>NaN</td>\n      <td>NaN</td>\n    </tr>\n    <tr>\n      <th>8</th>\n      <td>9</td>\n      <td>New Super Mario Bros. Wii</td>\n      <td>new-super-mario-bros-wii</td>\n      <td>Platform</td>\n      <td>E</td>\n      <td>Wii</td>\n      <td>Nintendo</td>\n      <td>Nintendo EAD</td>\n      <td>NaN</td>\n      <td>8.6</td>\n      <td>...</td>\n      <td>NaN</td>\n      <td>NaN</td>\n      <td>NaN</td>\n      <td>NaN</td>\n      <td>NaN</td>\n      <td>NaN</td>\n      <td>NaN</td>\n      <td>NaN</td>\n      <td>NaN</td>\n      <td>NaN</td>\n    </tr>\n    <tr>\n      <th>9</th>\n      <td>10</td>\n      <td>Minecraft</td>\n      <td>minecraft</td>\n      <td>Misc</td>\n      <td>NaN</td>\n      <td>PC</td>\n      <td>Mojang</td>\n      <td>Mojang AB</td>\n      <td>NaN</td>\n      <td>10.0</td>\n      <td>...</td>\n      <td>0.0</td>\n      <td>0.0</td>\n      <td>0.0</td>\n      <td>0.0</td>\n      <td>0.0</td>\n      <td>0.0</td>\n      <td>0.0</td>\n      <td>0.0</td>\n      <td>0.0</td>\n      <td>ET</td>\n    </tr>\n  </tbody>\n</table>\n<p>10 rows × 57 columns</p>\n</div>"
     },
     "execution_count": 195,
     "metadata": {},
     "output_type": "execute_result"
    }
   ],
   "source": [
    "df.head(10)"
   ],
   "metadata": {
    "collapsed": false,
    "pycharm": {
     "name": "#%%\n"
    }
   }
  },
  {
   "cell_type": "code",
   "execution_count": 196,
   "outputs": [],
   "source": [
    "df = df.drop(columns=['title'])\n",
    "\n",
    "df.ESRB_Rating.fillna(df.esrb_rating, inplace=True)\n",
    "del df['esrb_rating']"
   ],
   "metadata": {
    "collapsed": false,
    "pycharm": {
     "name": "#%%\n"
    }
   }
  },
  {
   "cell_type": "code",
   "execution_count": 197,
   "outputs": [
    {
     "data": {
      "text/plain": "Index(['Rank', 'Name', 'basename', 'Genre', 'ESRB_Rating', 'Platform',\n       'Publisher', 'Developer', 'VGChartz_Score', 'Critic_Score',\n       'User_Score', 'Total_Shipped', 'Global_Sales', 'NA_Sales', 'PAL_Sales',\n       'JP_Sales', 'Other_Sales', 'Year', 'Last_Update', 'url', 'status',\n       'Vgchartzscore', 'img_url', 'console', 'alcohol_reference',\n       'animated_blood', 'blood', 'blood_and_gore', 'cartoon_violence',\n       'crude_humor', 'drug_reference', 'fantasy_violence', 'intense_violence',\n       'language', 'lyrics', 'mature_humor', 'mild_blood',\n       'mild_cartoon_violence', 'mild_fantasy_violence', 'mild_language',\n       'mild_lyrics', 'mild_suggestive_themes', 'mild_violence',\n       'no_descriptors', 'nudity', 'partial_nudity', 'sexual_content',\n       'sexual_themes', 'simulated_gambling', 'strong_janguage',\n       'strong_sexual_content', 'suggestive_themes', 'use_of_alcohol',\n       'use_of_drugs_and_alcohol', 'violence'],\n      dtype='object')"
     },
     "execution_count": 197,
     "metadata": {},
     "output_type": "execute_result"
    }
   ],
   "source": [
    "df.columns"
   ],
   "metadata": {
    "collapsed": false,
    "pycharm": {
     "name": "#%%\n"
    }
   }
  },
  {
   "cell_type": "code",
   "execution_count": 198,
   "outputs": [
    {
     "data": {
      "text/plain": "Index(['Rank', 'Name', 'Platform', 'Year', 'Genre', 'Publisher', 'NA_Sales',\n       'EU_Sales', 'JP_Sales', 'Other_Sales', 'Global_Sales'],\n      dtype='object')"
     },
     "execution_count": 198,
     "metadata": {},
     "output_type": "execute_result"
    }
   ],
   "source": [
    "df_vg_sales.columns"
   ],
   "metadata": {
    "collapsed": false,
    "pycharm": {
     "name": "#%%\n"
    }
   }
  },
  {
   "cell_type": "code",
   "execution_count": 199,
   "outputs": [],
   "source": [
    "df = pd.merge(df, df_vg_sales, how=\"left\", left_on=[\"Name\", \"Platform\"], right_on=[\"Name\",\"Platform\"])"
   ],
   "metadata": {
    "collapsed": false,
    "pycharm": {
     "name": "#%%\n"
    }
   }
  },
  {
   "cell_type": "code",
   "execution_count": 200,
   "outputs": [
    {
     "name": "stdout",
     "output_type": "stream",
     "text": [
      "Shape of fact_df is (55796, 64)\n"
     ]
    }
   ],
   "source": [
    "print(f\"Shape of fact_df is {df.shape}\")"
   ],
   "metadata": {
    "collapsed": false,
    "pycharm": {
     "name": "#%%\n"
    }
   }
  },
  {
   "cell_type": "code",
   "execution_count": 201,
   "outputs": [
    {
     "data": {
      "text/plain": "Index(['Rank_x', 'Name', 'basename', 'Genre_x', 'ESRB_Rating', 'Platform',\n       'Publisher_x', 'Developer', 'VGChartz_Score', 'Critic_Score',\n       'User_Score', 'Total_Shipped', 'Global_Sales_x', 'NA_Sales_x',\n       'PAL_Sales', 'JP_Sales_x', 'Other_Sales_x', 'Year_x', 'Last_Update',\n       'url', 'status', 'Vgchartzscore', 'img_url', 'console',\n       'alcohol_reference', 'animated_blood', 'blood', 'blood_and_gore',\n       'cartoon_violence', 'crude_humor', 'drug_reference', 'fantasy_violence',\n       'intense_violence', 'language', 'lyrics', 'mature_humor', 'mild_blood',\n       'mild_cartoon_violence', 'mild_fantasy_violence', 'mild_language',\n       'mild_lyrics', 'mild_suggestive_themes', 'mild_violence',\n       'no_descriptors', 'nudity', 'partial_nudity', 'sexual_content',\n       'sexual_themes', 'simulated_gambling', 'strong_janguage',\n       'strong_sexual_content', 'suggestive_themes', 'use_of_alcohol',\n       'use_of_drugs_and_alcohol', 'violence', 'Rank_y', 'Year_y', 'Genre_y',\n       'Publisher_y', 'NA_Sales_y', 'EU_Sales', 'JP_Sales_y', 'Other_Sales_y',\n       'Global_Sales_y'],\n      dtype='object')"
     },
     "execution_count": 201,
     "metadata": {},
     "output_type": "execute_result"
    }
   ],
   "source": [
    "df.columns"
   ],
   "metadata": {
    "collapsed": false,
    "pycharm": {
     "name": "#%%\n"
    }
   }
  },
  {
   "cell_type": "code",
   "execution_count": 202,
   "outputs": [
    {
     "data": {
      "text/plain": "     Rank_x                                           Name  \\\n0         1                                     Wii Sports   \n1         2                              Super Mario Bros.   \n2         3                                 Mario Kart Wii   \n3         4                  PlayerUnknown's Battlegrounds   \n4         5                              Wii Sports Resort   \n..      ...                                            ...   \n495     496         World of Warcraft: Warlords of Draenor   \n496     497                                 Dark Souls III   \n497     498             Dark Souls: Prepare to Die Edition   \n498     499  The Lord of the Rings: The Return of the King   \n499     500                       Half-Life 2: Episode Two   \n\n                                         basename       Genre_x ESRB_Rating  \\\n0                                      wii-sports        Sports           E   \n1                                super-mario-bros      Platform         NaN   \n2                                  mario-kart-wii        Racing           E   \n3                    playerunknowns-battlegrounds       Shooter         NaN   \n4                               wii-sports-resort        Sports           E   \n..                                            ...           ...         ...   \n495         world-of-warcraft-warlords-of-draenor           MMO           T   \n496                                dark-souls-iii  Role-Playing         NaN   \n497             dark-souls-prepare-to-die-edition  Role-Playing           M   \n498  the-lord-of-the-rings-the-return-of-the-king        Action           T   \n499                       half-life-2-episode-two       Shooter           M   \n\n    Platform          Publisher_x                   Developer  VGChartz_Score  \\\n0        Wii             Nintendo                Nintendo EAD             NaN   \n1        NES             Nintendo                Nintendo EAD             NaN   \n2        Wii             Nintendo                Nintendo EAD             NaN   \n3         PC     PUBG Corporation            PUBG Corporation             NaN   \n4        Wii             Nintendo                Nintendo EAD             NaN   \n..       ...                  ...                         ...             ...   \n495       PC  Activision Blizzard      Blizzard Entertainment             NaN   \n496       PC   Namco Bandai Games               From Software             NaN   \n497       PC   Namco Bandai Games               From Software             NaN   \n498      PS2      Electronic Arts  Hypnos Entertainment, Inc.             NaN   \n499       PC       Valve Software           Valve Corporation             NaN   \n\n     Critic_Score  ...  violence   Rank_y  Year_y       Genre_y  \\\n0             7.7  ...       NaN      1.0  2006.0        Sports   \n1            10.0  ...       NaN      2.0  1985.0      Platform   \n2             8.2  ...       NaN      3.0  2008.0        Racing   \n3             NaN  ...       NaN      NaN     NaN           NaN   \n4             8.0  ...       NaN      4.0  2009.0        Sports   \n..            ...  ...       ...      ...     ...           ...   \n495           NaN  ...       NaN   4109.0  2014.0        Action   \n496           NaN  ...       NaN  12901.0  2016.0  Role-Playing   \n497           NaN  ...       NaN      NaN     NaN           NaN   \n498           8.4  ...       NaN    409.0  2003.0        Action   \n499           9.1  ...       NaN      NaN     NaN           NaN   \n\n             Publisher_y  NA_Sales_y  EU_Sales  JP_Sales_y Other_Sales_y  \\\n0               Nintendo       41.49     29.02        3.77          8.46   \n1               Nintendo       29.08      3.58        6.81          0.77   \n2               Nintendo       15.85     12.88        3.79          3.31   \n3                    NaN         NaN       NaN         NaN           NaN   \n4               Nintendo       15.75     11.01        3.28          2.96   \n..                   ...         ...       ...         ...           ...   \n495  Activision Blizzard        0.08      0.36        0.00          0.04   \n496   Namco Bandai Games        0.00      0.05        0.00          0.00   \n497                  NaN         NaN       NaN         NaN           NaN   \n498      Electronic Arts        1.50      1.28        0.05          0.46   \n499                  NaN         NaN       NaN         NaN           NaN   \n\n    Global_Sales_y  \n0            82.74  \n1            40.24  \n2            35.82  \n3              NaN  \n4            33.00  \n..             ...  \n495           0.48  \n496           0.05  \n497            NaN  \n498           3.28  \n499            NaN  \n\n[500 rows x 64 columns]",
      "text/html": "<div>\n<style scoped>\n    .dataframe tbody tr th:only-of-type {\n        vertical-align: middle;\n    }\n\n    .dataframe tbody tr th {\n        vertical-align: top;\n    }\n\n    .dataframe thead th {\n        text-align: right;\n    }\n</style>\n<table border=\"1\" class=\"dataframe\">\n  <thead>\n    <tr style=\"text-align: right;\">\n      <th></th>\n      <th>Rank_x</th>\n      <th>Name</th>\n      <th>basename</th>\n      <th>Genre_x</th>\n      <th>ESRB_Rating</th>\n      <th>Platform</th>\n      <th>Publisher_x</th>\n      <th>Developer</th>\n      <th>VGChartz_Score</th>\n      <th>Critic_Score</th>\n      <th>...</th>\n      <th>violence</th>\n      <th>Rank_y</th>\n      <th>Year_y</th>\n      <th>Genre_y</th>\n      <th>Publisher_y</th>\n      <th>NA_Sales_y</th>\n      <th>EU_Sales</th>\n      <th>JP_Sales_y</th>\n      <th>Other_Sales_y</th>\n      <th>Global_Sales_y</th>\n    </tr>\n  </thead>\n  <tbody>\n    <tr>\n      <th>0</th>\n      <td>1</td>\n      <td>Wii Sports</td>\n      <td>wii-sports</td>\n      <td>Sports</td>\n      <td>E</td>\n      <td>Wii</td>\n      <td>Nintendo</td>\n      <td>Nintendo EAD</td>\n      <td>NaN</td>\n      <td>7.7</td>\n      <td>...</td>\n      <td>NaN</td>\n      <td>1.0</td>\n      <td>2006.0</td>\n      <td>Sports</td>\n      <td>Nintendo</td>\n      <td>41.49</td>\n      <td>29.02</td>\n      <td>3.77</td>\n      <td>8.46</td>\n      <td>82.74</td>\n    </tr>\n    <tr>\n      <th>1</th>\n      <td>2</td>\n      <td>Super Mario Bros.</td>\n      <td>super-mario-bros</td>\n      <td>Platform</td>\n      <td>NaN</td>\n      <td>NES</td>\n      <td>Nintendo</td>\n      <td>Nintendo EAD</td>\n      <td>NaN</td>\n      <td>10.0</td>\n      <td>...</td>\n      <td>NaN</td>\n      <td>2.0</td>\n      <td>1985.0</td>\n      <td>Platform</td>\n      <td>Nintendo</td>\n      <td>29.08</td>\n      <td>3.58</td>\n      <td>6.81</td>\n      <td>0.77</td>\n      <td>40.24</td>\n    </tr>\n    <tr>\n      <th>2</th>\n      <td>3</td>\n      <td>Mario Kart Wii</td>\n      <td>mario-kart-wii</td>\n      <td>Racing</td>\n      <td>E</td>\n      <td>Wii</td>\n      <td>Nintendo</td>\n      <td>Nintendo EAD</td>\n      <td>NaN</td>\n      <td>8.2</td>\n      <td>...</td>\n      <td>NaN</td>\n      <td>3.0</td>\n      <td>2008.0</td>\n      <td>Racing</td>\n      <td>Nintendo</td>\n      <td>15.85</td>\n      <td>12.88</td>\n      <td>3.79</td>\n      <td>3.31</td>\n      <td>35.82</td>\n    </tr>\n    <tr>\n      <th>3</th>\n      <td>4</td>\n      <td>PlayerUnknown's Battlegrounds</td>\n      <td>playerunknowns-battlegrounds</td>\n      <td>Shooter</td>\n      <td>NaN</td>\n      <td>PC</td>\n      <td>PUBG Corporation</td>\n      <td>PUBG Corporation</td>\n      <td>NaN</td>\n      <td>NaN</td>\n      <td>...</td>\n      <td>NaN</td>\n      <td>NaN</td>\n      <td>NaN</td>\n      <td>NaN</td>\n      <td>NaN</td>\n      <td>NaN</td>\n      <td>NaN</td>\n      <td>NaN</td>\n      <td>NaN</td>\n      <td>NaN</td>\n    </tr>\n    <tr>\n      <th>4</th>\n      <td>5</td>\n      <td>Wii Sports Resort</td>\n      <td>wii-sports-resort</td>\n      <td>Sports</td>\n      <td>E</td>\n      <td>Wii</td>\n      <td>Nintendo</td>\n      <td>Nintendo EAD</td>\n      <td>NaN</td>\n      <td>8.0</td>\n      <td>...</td>\n      <td>NaN</td>\n      <td>4.0</td>\n      <td>2009.0</td>\n      <td>Sports</td>\n      <td>Nintendo</td>\n      <td>15.75</td>\n      <td>11.01</td>\n      <td>3.28</td>\n      <td>2.96</td>\n      <td>33.00</td>\n    </tr>\n    <tr>\n      <th>...</th>\n      <td>...</td>\n      <td>...</td>\n      <td>...</td>\n      <td>...</td>\n      <td>...</td>\n      <td>...</td>\n      <td>...</td>\n      <td>...</td>\n      <td>...</td>\n      <td>...</td>\n      <td>...</td>\n      <td>...</td>\n      <td>...</td>\n      <td>...</td>\n      <td>...</td>\n      <td>...</td>\n      <td>...</td>\n      <td>...</td>\n      <td>...</td>\n      <td>...</td>\n      <td>...</td>\n    </tr>\n    <tr>\n      <th>495</th>\n      <td>496</td>\n      <td>World of Warcraft: Warlords of Draenor</td>\n      <td>world-of-warcraft-warlords-of-draenor</td>\n      <td>MMO</td>\n      <td>T</td>\n      <td>PC</td>\n      <td>Activision Blizzard</td>\n      <td>Blizzard Entertainment</td>\n      <td>NaN</td>\n      <td>NaN</td>\n      <td>...</td>\n      <td>NaN</td>\n      <td>4109.0</td>\n      <td>2014.0</td>\n      <td>Action</td>\n      <td>Activision Blizzard</td>\n      <td>0.08</td>\n      <td>0.36</td>\n      <td>0.00</td>\n      <td>0.04</td>\n      <td>0.48</td>\n    </tr>\n    <tr>\n      <th>496</th>\n      <td>497</td>\n      <td>Dark Souls III</td>\n      <td>dark-souls-iii</td>\n      <td>Role-Playing</td>\n      <td>NaN</td>\n      <td>PC</td>\n      <td>Namco Bandai Games</td>\n      <td>From Software</td>\n      <td>NaN</td>\n      <td>NaN</td>\n      <td>...</td>\n      <td>NaN</td>\n      <td>12901.0</td>\n      <td>2016.0</td>\n      <td>Role-Playing</td>\n      <td>Namco Bandai Games</td>\n      <td>0.00</td>\n      <td>0.05</td>\n      <td>0.00</td>\n      <td>0.00</td>\n      <td>0.05</td>\n    </tr>\n    <tr>\n      <th>497</th>\n      <td>498</td>\n      <td>Dark Souls: Prepare to Die Edition</td>\n      <td>dark-souls-prepare-to-die-edition</td>\n      <td>Role-Playing</td>\n      <td>M</td>\n      <td>PC</td>\n      <td>Namco Bandai Games</td>\n      <td>From Software</td>\n      <td>NaN</td>\n      <td>NaN</td>\n      <td>...</td>\n      <td>NaN</td>\n      <td>NaN</td>\n      <td>NaN</td>\n      <td>NaN</td>\n      <td>NaN</td>\n      <td>NaN</td>\n      <td>NaN</td>\n      <td>NaN</td>\n      <td>NaN</td>\n      <td>NaN</td>\n    </tr>\n    <tr>\n      <th>498</th>\n      <td>499</td>\n      <td>The Lord of the Rings: The Return of the King</td>\n      <td>the-lord-of-the-rings-the-return-of-the-king</td>\n      <td>Action</td>\n      <td>T</td>\n      <td>PS2</td>\n      <td>Electronic Arts</td>\n      <td>Hypnos Entertainment, Inc.</td>\n      <td>NaN</td>\n      <td>8.4</td>\n      <td>...</td>\n      <td>NaN</td>\n      <td>409.0</td>\n      <td>2003.0</td>\n      <td>Action</td>\n      <td>Electronic Arts</td>\n      <td>1.50</td>\n      <td>1.28</td>\n      <td>0.05</td>\n      <td>0.46</td>\n      <td>3.28</td>\n    </tr>\n    <tr>\n      <th>499</th>\n      <td>500</td>\n      <td>Half-Life 2: Episode Two</td>\n      <td>half-life-2-episode-two</td>\n      <td>Shooter</td>\n      <td>M</td>\n      <td>PC</td>\n      <td>Valve Software</td>\n      <td>Valve Corporation</td>\n      <td>NaN</td>\n      <td>9.1</td>\n      <td>...</td>\n      <td>NaN</td>\n      <td>NaN</td>\n      <td>NaN</td>\n      <td>NaN</td>\n      <td>NaN</td>\n      <td>NaN</td>\n      <td>NaN</td>\n      <td>NaN</td>\n      <td>NaN</td>\n      <td>NaN</td>\n    </tr>\n  </tbody>\n</table>\n<p>500 rows × 64 columns</p>\n</div>"
     },
     "execution_count": 202,
     "metadata": {},
     "output_type": "execute_result"
    }
   ],
   "source": [
    "df.head(500)"
   ],
   "metadata": {
    "collapsed": false,
    "pycharm": {
     "name": "#%%\n"
    }
   }
  },
  {
   "cell_type": "code",
   "execution_count": 203,
   "outputs": [],
   "source": [
    "df = df.drop(columns=['Rank_x', 'Rank_y', 'Genre_y', 'Publisher_y'])\n",
    "\n",
    "df.Year_x.fillna(df.Year_y, inplace=True)\n",
    "del df['Year_y']\n",
    "df.NA_Sales_x.fillna(df.NA_Sales_y, inplace=True)\n",
    "del df['NA_Sales_y']\n",
    "df.PAL_Sales.fillna(df.EU_Sales, inplace=True)\n",
    "del df['EU_Sales']\n",
    "df.JP_Sales_x.fillna(df.JP_Sales_y, inplace=True)\n",
    "del df['JP_Sales_y']\n",
    "df.Other_Sales_x.fillna(df.Other_Sales_y, inplace=True)\n",
    "del df['Other_Sales_y']\n",
    "df.Global_Sales_x.fillna(df.Global_Sales_y, inplace=True)\n",
    "del df['Global_Sales_y']\n",
    "\n",
    "df.rename(columns = {'Rank_x':'Rank', 'Genre_x':'Genre', 'Publisher_x':'Publisher','Global_Sales_x':'Global_Sales','NA_Sales_x':'NA_Sales','PAL_Sales':'EU_Sales','JP_Sales_x':'JP_Sales','Other_Sales_x':'Other_Sales','Year_x':'Year'}, inplace = True)"
   ],
   "metadata": {
    "collapsed": false,
    "pycharm": {
     "name": "#%%\n"
    }
   }
  },
  {
   "cell_type": "code",
   "execution_count": 204,
   "outputs": [
    {
     "data": {
      "text/plain": "                                  Name                      basename  \\\n0                           Wii Sports                    wii-sports   \n1                    Super Mario Bros.              super-mario-bros   \n2                       Mario Kart Wii                mario-kart-wii   \n3        PlayerUnknown's Battlegrounds  playerunknowns-battlegrounds   \n4                    Wii Sports Resort             wii-sports-resort   \n5   Pokemon Red / Green / Blue Version                    pokmon-red   \n6                New Super Mario Bros.          new-super-mario-bros   \n7                               Tetris                        tetris   \n8            New Super Mario Bros. Wii      new-super-mario-bros-wii   \n9                            Minecraft                     minecraft   \n10                           Duck Hunt                     duck-hunt   \n11                            Wii Play                      wii-play   \n12                  Kinect Adventures!             kinect-adventures   \n13                          Nintendogs                    nintendogs   \n14                       Mario Kart DS                 mario-kart-ds   \n\n           Genre ESRB_Rating Platform               Publisher  \\\n0         Sports           E      Wii                Nintendo   \n1       Platform         NaN      NES                Nintendo   \n2         Racing           E      Wii                Nintendo   \n3        Shooter         NaN       PC        PUBG Corporation   \n4         Sports           E      Wii                Nintendo   \n5   Role-Playing           E       GB                Nintendo   \n6       Platform           E       DS                Nintendo   \n7         Puzzle           E       GB                Nintendo   \n8       Platform           E      Wii                Nintendo   \n9           Misc          ET       PC                  Mojang   \n10       Shooter         NaN      NES                Nintendo   \n11          Misc           E      Wii                Nintendo   \n12         Party           E     X360  Microsoft Game Studios   \n13    Simulation           E       DS                Nintendo   \n14        Racing           E       DS                Nintendo   \n\n                Developer  VGChartz_Score  Critic_Score  User_Score  ...  \\\n0            Nintendo EAD             NaN           7.7         NaN  ...   \n1            Nintendo EAD             NaN          10.0         NaN  ...   \n2            Nintendo EAD             NaN           8.2         9.1  ...   \n3        PUBG Corporation             NaN           NaN         NaN  ...   \n4            Nintendo EAD             NaN           8.0         8.8  ...   \n5              Game Freak             NaN           9.4         NaN  ...   \n6            Nintendo EAD             NaN           9.1         8.1  ...   \n7   Bullet Proof Software             NaN           NaN         NaN  ...   \n8            Nintendo EAD             NaN           8.6         9.2  ...   \n9               Mojang AB             NaN          10.0         NaN  ...   \n10          Nintendo R&D1             NaN           NaN         NaN  ...   \n11           Nintendo EAD             NaN           5.9         4.5  ...   \n12    Good Science Studio             NaN           6.7         NaN  ...   \n13           Nintendo EAD             NaN           8.4         NaN  ...   \n14           Nintendo EAD             NaN           9.1         9.4  ...   \n\n    partial_nudity  sexual_content  sexual_themes  simulated_gambling  \\\n0              NaN             NaN            NaN                 NaN   \n1              NaN             NaN            NaN                 NaN   \n2              NaN             NaN            NaN                 NaN   \n3              NaN             NaN            NaN                 NaN   \n4              NaN             NaN            NaN                 NaN   \n5              NaN             NaN            NaN                 NaN   \n6              NaN             NaN            NaN                 NaN   \n7              NaN             NaN            NaN                 NaN   \n8              NaN             NaN            NaN                 NaN   \n9              0.0             0.0            0.0                 0.0   \n10             NaN             NaN            NaN                 NaN   \n11             NaN             NaN            NaN                 NaN   \n12             NaN             NaN            NaN                 NaN   \n13             NaN             NaN            NaN                 NaN   \n14             NaN             NaN            NaN                 NaN   \n\n    strong_janguage  strong_sexual_content  suggestive_themes use_of_alcohol  \\\n0               NaN                    NaN                NaN            NaN   \n1               NaN                    NaN                NaN            NaN   \n2               NaN                    NaN                NaN            NaN   \n3               NaN                    NaN                NaN            NaN   \n4               NaN                    NaN                NaN            NaN   \n5               NaN                    NaN                NaN            NaN   \n6               NaN                    NaN                NaN            NaN   \n7               NaN                    NaN                NaN            NaN   \n8               NaN                    NaN                NaN            NaN   \n9               0.0                    0.0                0.0            0.0   \n10              NaN                    NaN                NaN            NaN   \n11              NaN                    NaN                NaN            NaN   \n12              NaN                    NaN                NaN            NaN   \n13              NaN                    NaN                NaN            NaN   \n14              NaN                    NaN                NaN            NaN   \n\n   use_of_drugs_and_alcohol  violence  \n0                       NaN       NaN  \n1                       NaN       NaN  \n2                       NaN       NaN  \n3                       NaN       NaN  \n4                       NaN       NaN  \n5                       NaN       NaN  \n6                       NaN       NaN  \n7                       NaN       NaN  \n8                       NaN       NaN  \n9                       0.0       0.0  \n10                      NaN       NaN  \n11                      NaN       NaN  \n12                      NaN       NaN  \n13                      NaN       NaN  \n14                      NaN       NaN  \n\n[15 rows x 54 columns]",
      "text/html": "<div>\n<style scoped>\n    .dataframe tbody tr th:only-of-type {\n        vertical-align: middle;\n    }\n\n    .dataframe tbody tr th {\n        vertical-align: top;\n    }\n\n    .dataframe thead th {\n        text-align: right;\n    }\n</style>\n<table border=\"1\" class=\"dataframe\">\n  <thead>\n    <tr style=\"text-align: right;\">\n      <th></th>\n      <th>Name</th>\n      <th>basename</th>\n      <th>Genre</th>\n      <th>ESRB_Rating</th>\n      <th>Platform</th>\n      <th>Publisher</th>\n      <th>Developer</th>\n      <th>VGChartz_Score</th>\n      <th>Critic_Score</th>\n      <th>User_Score</th>\n      <th>...</th>\n      <th>partial_nudity</th>\n      <th>sexual_content</th>\n      <th>sexual_themes</th>\n      <th>simulated_gambling</th>\n      <th>strong_janguage</th>\n      <th>strong_sexual_content</th>\n      <th>suggestive_themes</th>\n      <th>use_of_alcohol</th>\n      <th>use_of_drugs_and_alcohol</th>\n      <th>violence</th>\n    </tr>\n  </thead>\n  <tbody>\n    <tr>\n      <th>0</th>\n      <td>Wii Sports</td>\n      <td>wii-sports</td>\n      <td>Sports</td>\n      <td>E</td>\n      <td>Wii</td>\n      <td>Nintendo</td>\n      <td>Nintendo EAD</td>\n      <td>NaN</td>\n      <td>7.7</td>\n      <td>NaN</td>\n      <td>...</td>\n      <td>NaN</td>\n      <td>NaN</td>\n      <td>NaN</td>\n      <td>NaN</td>\n      <td>NaN</td>\n      <td>NaN</td>\n      <td>NaN</td>\n      <td>NaN</td>\n      <td>NaN</td>\n      <td>NaN</td>\n    </tr>\n    <tr>\n      <th>1</th>\n      <td>Super Mario Bros.</td>\n      <td>super-mario-bros</td>\n      <td>Platform</td>\n      <td>NaN</td>\n      <td>NES</td>\n      <td>Nintendo</td>\n      <td>Nintendo EAD</td>\n      <td>NaN</td>\n      <td>10.0</td>\n      <td>NaN</td>\n      <td>...</td>\n      <td>NaN</td>\n      <td>NaN</td>\n      <td>NaN</td>\n      <td>NaN</td>\n      <td>NaN</td>\n      <td>NaN</td>\n      <td>NaN</td>\n      <td>NaN</td>\n      <td>NaN</td>\n      <td>NaN</td>\n    </tr>\n    <tr>\n      <th>2</th>\n      <td>Mario Kart Wii</td>\n      <td>mario-kart-wii</td>\n      <td>Racing</td>\n      <td>E</td>\n      <td>Wii</td>\n      <td>Nintendo</td>\n      <td>Nintendo EAD</td>\n      <td>NaN</td>\n      <td>8.2</td>\n      <td>9.1</td>\n      <td>...</td>\n      <td>NaN</td>\n      <td>NaN</td>\n      <td>NaN</td>\n      <td>NaN</td>\n      <td>NaN</td>\n      <td>NaN</td>\n      <td>NaN</td>\n      <td>NaN</td>\n      <td>NaN</td>\n      <td>NaN</td>\n    </tr>\n    <tr>\n      <th>3</th>\n      <td>PlayerUnknown's Battlegrounds</td>\n      <td>playerunknowns-battlegrounds</td>\n      <td>Shooter</td>\n      <td>NaN</td>\n      <td>PC</td>\n      <td>PUBG Corporation</td>\n      <td>PUBG Corporation</td>\n      <td>NaN</td>\n      <td>NaN</td>\n      <td>NaN</td>\n      <td>...</td>\n      <td>NaN</td>\n      <td>NaN</td>\n      <td>NaN</td>\n      <td>NaN</td>\n      <td>NaN</td>\n      <td>NaN</td>\n      <td>NaN</td>\n      <td>NaN</td>\n      <td>NaN</td>\n      <td>NaN</td>\n    </tr>\n    <tr>\n      <th>4</th>\n      <td>Wii Sports Resort</td>\n      <td>wii-sports-resort</td>\n      <td>Sports</td>\n      <td>E</td>\n      <td>Wii</td>\n      <td>Nintendo</td>\n      <td>Nintendo EAD</td>\n      <td>NaN</td>\n      <td>8.0</td>\n      <td>8.8</td>\n      <td>...</td>\n      <td>NaN</td>\n      <td>NaN</td>\n      <td>NaN</td>\n      <td>NaN</td>\n      <td>NaN</td>\n      <td>NaN</td>\n      <td>NaN</td>\n      <td>NaN</td>\n      <td>NaN</td>\n      <td>NaN</td>\n    </tr>\n    <tr>\n      <th>5</th>\n      <td>Pokemon Red / Green / Blue Version</td>\n      <td>pokmon-red</td>\n      <td>Role-Playing</td>\n      <td>E</td>\n      <td>GB</td>\n      <td>Nintendo</td>\n      <td>Game Freak</td>\n      <td>NaN</td>\n      <td>9.4</td>\n      <td>NaN</td>\n      <td>...</td>\n      <td>NaN</td>\n      <td>NaN</td>\n      <td>NaN</td>\n      <td>NaN</td>\n      <td>NaN</td>\n      <td>NaN</td>\n      <td>NaN</td>\n      <td>NaN</td>\n      <td>NaN</td>\n      <td>NaN</td>\n    </tr>\n    <tr>\n      <th>6</th>\n      <td>New Super Mario Bros.</td>\n      <td>new-super-mario-bros</td>\n      <td>Platform</td>\n      <td>E</td>\n      <td>DS</td>\n      <td>Nintendo</td>\n      <td>Nintendo EAD</td>\n      <td>NaN</td>\n      <td>9.1</td>\n      <td>8.1</td>\n      <td>...</td>\n      <td>NaN</td>\n      <td>NaN</td>\n      <td>NaN</td>\n      <td>NaN</td>\n      <td>NaN</td>\n      <td>NaN</td>\n      <td>NaN</td>\n      <td>NaN</td>\n      <td>NaN</td>\n      <td>NaN</td>\n    </tr>\n    <tr>\n      <th>7</th>\n      <td>Tetris</td>\n      <td>tetris</td>\n      <td>Puzzle</td>\n      <td>E</td>\n      <td>GB</td>\n      <td>Nintendo</td>\n      <td>Bullet Proof Software</td>\n      <td>NaN</td>\n      <td>NaN</td>\n      <td>NaN</td>\n      <td>...</td>\n      <td>NaN</td>\n      <td>NaN</td>\n      <td>NaN</td>\n      <td>NaN</td>\n      <td>NaN</td>\n      <td>NaN</td>\n      <td>NaN</td>\n      <td>NaN</td>\n      <td>NaN</td>\n      <td>NaN</td>\n    </tr>\n    <tr>\n      <th>8</th>\n      <td>New Super Mario Bros. Wii</td>\n      <td>new-super-mario-bros-wii</td>\n      <td>Platform</td>\n      <td>E</td>\n      <td>Wii</td>\n      <td>Nintendo</td>\n      <td>Nintendo EAD</td>\n      <td>NaN</td>\n      <td>8.6</td>\n      <td>9.2</td>\n      <td>...</td>\n      <td>NaN</td>\n      <td>NaN</td>\n      <td>NaN</td>\n      <td>NaN</td>\n      <td>NaN</td>\n      <td>NaN</td>\n      <td>NaN</td>\n      <td>NaN</td>\n      <td>NaN</td>\n      <td>NaN</td>\n    </tr>\n    <tr>\n      <th>9</th>\n      <td>Minecraft</td>\n      <td>minecraft</td>\n      <td>Misc</td>\n      <td>ET</td>\n      <td>PC</td>\n      <td>Mojang</td>\n      <td>Mojang AB</td>\n      <td>NaN</td>\n      <td>10.0</td>\n      <td>NaN</td>\n      <td>...</td>\n      <td>0.0</td>\n      <td>0.0</td>\n      <td>0.0</td>\n      <td>0.0</td>\n      <td>0.0</td>\n      <td>0.0</td>\n      <td>0.0</td>\n      <td>0.0</td>\n      <td>0.0</td>\n      <td>0.0</td>\n    </tr>\n    <tr>\n      <th>10</th>\n      <td>Duck Hunt</td>\n      <td>duck-hunt</td>\n      <td>Shooter</td>\n      <td>NaN</td>\n      <td>NES</td>\n      <td>Nintendo</td>\n      <td>Nintendo R&amp;D1</td>\n      <td>NaN</td>\n      <td>NaN</td>\n      <td>NaN</td>\n      <td>...</td>\n      <td>NaN</td>\n      <td>NaN</td>\n      <td>NaN</td>\n      <td>NaN</td>\n      <td>NaN</td>\n      <td>NaN</td>\n      <td>NaN</td>\n      <td>NaN</td>\n      <td>NaN</td>\n      <td>NaN</td>\n    </tr>\n    <tr>\n      <th>11</th>\n      <td>Wii Play</td>\n      <td>wii-play</td>\n      <td>Misc</td>\n      <td>E</td>\n      <td>Wii</td>\n      <td>Nintendo</td>\n      <td>Nintendo EAD</td>\n      <td>NaN</td>\n      <td>5.9</td>\n      <td>4.5</td>\n      <td>...</td>\n      <td>NaN</td>\n      <td>NaN</td>\n      <td>NaN</td>\n      <td>NaN</td>\n      <td>NaN</td>\n      <td>NaN</td>\n      <td>NaN</td>\n      <td>NaN</td>\n      <td>NaN</td>\n      <td>NaN</td>\n    </tr>\n    <tr>\n      <th>12</th>\n      <td>Kinect Adventures!</td>\n      <td>kinect-adventures</td>\n      <td>Party</td>\n      <td>E</td>\n      <td>X360</td>\n      <td>Microsoft Game Studios</td>\n      <td>Good Science Studio</td>\n      <td>NaN</td>\n      <td>6.7</td>\n      <td>NaN</td>\n      <td>...</td>\n      <td>NaN</td>\n      <td>NaN</td>\n      <td>NaN</td>\n      <td>NaN</td>\n      <td>NaN</td>\n      <td>NaN</td>\n      <td>NaN</td>\n      <td>NaN</td>\n      <td>NaN</td>\n      <td>NaN</td>\n    </tr>\n    <tr>\n      <th>13</th>\n      <td>Nintendogs</td>\n      <td>nintendogs</td>\n      <td>Simulation</td>\n      <td>E</td>\n      <td>DS</td>\n      <td>Nintendo</td>\n      <td>Nintendo EAD</td>\n      <td>NaN</td>\n      <td>8.4</td>\n      <td>NaN</td>\n      <td>...</td>\n      <td>NaN</td>\n      <td>NaN</td>\n      <td>NaN</td>\n      <td>NaN</td>\n      <td>NaN</td>\n      <td>NaN</td>\n      <td>NaN</td>\n      <td>NaN</td>\n      <td>NaN</td>\n      <td>NaN</td>\n    </tr>\n    <tr>\n      <th>14</th>\n      <td>Mario Kart DS</td>\n      <td>mario-kart-ds</td>\n      <td>Racing</td>\n      <td>E</td>\n      <td>DS</td>\n      <td>Nintendo</td>\n      <td>Nintendo EAD</td>\n      <td>NaN</td>\n      <td>9.1</td>\n      <td>9.4</td>\n      <td>...</td>\n      <td>NaN</td>\n      <td>NaN</td>\n      <td>NaN</td>\n      <td>NaN</td>\n      <td>NaN</td>\n      <td>NaN</td>\n      <td>NaN</td>\n      <td>NaN</td>\n      <td>NaN</td>\n      <td>NaN</td>\n    </tr>\n  </tbody>\n</table>\n<p>15 rows × 54 columns</p>\n</div>"
     },
     "execution_count": 204,
     "metadata": {},
     "output_type": "execute_result"
    }
   ],
   "source": [
    "df.head(15)"
   ],
   "metadata": {
    "collapsed": false,
    "pycharm": {
     "name": "#%%\n"
    }
   }
  },
  {
   "cell_type": "code",
   "execution_count": 220,
   "outputs": [
    {
     "name": "stdout",
     "output_type": "stream",
     "text": [
      "Shape of df is (55796, 54)\n"
     ]
    }
   ],
   "source": [
    "print(f\"Shape of df is {df.shape}\")"
   ],
   "metadata": {
    "collapsed": false,
    "pycharm": {
     "name": "#%%\n"
    }
   }
  },
  {
   "cell_type": "code",
   "execution_count": 208,
   "outputs": [
    {
     "data": {
      "text/plain": "       VGChartz_Score  Critic_Score  User_Score  Total_Shipped  Global_Sales  \\\ncount             0.0   6538.000000  335.000000    1827.000000  20198.000000   \nmean              NaN      7.214056    8.253433       1.887258      0.456848   \nstd               NaN      1.453993    1.401489       4.195693      1.393013   \nmin               NaN      1.000000    2.000000       0.030000      0.000000   \n25%               NaN      6.400000    7.800000       0.200000      0.040000   \n50%               NaN      7.500000    8.500000       0.590000      0.130000   \n75%               NaN      8.300000    9.100000       1.800000      0.400000   \nmax               NaN     10.000000   10.000000      82.860000     82.740000   \n\n           NA_Sales      EU_Sales      JP_Sales   Other_Sales          Year  \\\ncount  17725.000000  18291.000000  17586.000000  18891.000000  54818.000000   \nmean       0.257205      0.140808      0.071244      0.044936   2005.659108   \nstd        0.784721      0.497178      0.259441      0.180023      8.355286   \nmin        0.000000      0.000000      0.000000      0.000000   1970.000000   \n25%        0.010000      0.000000      0.000000      0.000000   2000.000000   \n50%        0.080000      0.020000      0.000000      0.010000   2008.000000   \n75%        0.230000      0.100000      0.040000      0.030000   2011.000000   \nmax       41.490000     29.020000      6.810000     10.570000   2020.000000   \n\n       ...  partial_nudity  sexual_content  sexual_themes  simulated_gambling  \\\ncount  ...     1647.000000     1647.000000    1647.000000         1647.000000   \nmean   ...        0.011536        0.043716       0.069217            0.040073   \nstd    ...        0.106817        0.204524       0.253899            0.196190   \nmin    ...        0.000000        0.000000       0.000000            0.000000   \n25%    ...        0.000000        0.000000       0.000000            0.000000   \n50%    ...        0.000000        0.000000       0.000000            0.000000   \n75%    ...        0.000000        0.000000       0.000000            0.000000   \nmax    ...        1.000000        1.000000       1.000000            1.000000   \n\n       strong_janguage  strong_sexual_content  suggestive_themes  \\\ncount      1647.000000            1647.000000        1647.000000   \nmean          0.159684               0.041287           0.131755   \nstd           0.366424               0.199014           0.338327   \nmin           0.000000               0.000000           0.000000   \n25%           0.000000               0.000000           0.000000   \n50%           0.000000               0.000000           0.000000   \n75%           0.000000               0.000000           0.000000   \nmax           1.000000               1.000000           1.000000   \n\n       use_of_alcohol  use_of_drugs_and_alcohol     violence  \ncount     1647.000000               1647.000000  1647.000000  \nmean         0.020036                  0.017001     0.058288  \nstd          0.140167                  0.129313     0.234358  \nmin          0.000000                  0.000000     0.000000  \n25%          0.000000                  0.000000     0.000000  \n50%          0.000000                  0.000000     0.000000  \n75%          0.000000                  0.000000     0.000000  \nmax          1.000000                  1.000000     1.000000  \n\n[8 rows x 44 columns]",
      "text/html": "<div>\n<style scoped>\n    .dataframe tbody tr th:only-of-type {\n        vertical-align: middle;\n    }\n\n    .dataframe tbody tr th {\n        vertical-align: top;\n    }\n\n    .dataframe thead th {\n        text-align: right;\n    }\n</style>\n<table border=\"1\" class=\"dataframe\">\n  <thead>\n    <tr style=\"text-align: right;\">\n      <th></th>\n      <th>VGChartz_Score</th>\n      <th>Critic_Score</th>\n      <th>User_Score</th>\n      <th>Total_Shipped</th>\n      <th>Global_Sales</th>\n      <th>NA_Sales</th>\n      <th>EU_Sales</th>\n      <th>JP_Sales</th>\n      <th>Other_Sales</th>\n      <th>Year</th>\n      <th>...</th>\n      <th>partial_nudity</th>\n      <th>sexual_content</th>\n      <th>sexual_themes</th>\n      <th>simulated_gambling</th>\n      <th>strong_janguage</th>\n      <th>strong_sexual_content</th>\n      <th>suggestive_themes</th>\n      <th>use_of_alcohol</th>\n      <th>use_of_drugs_and_alcohol</th>\n      <th>violence</th>\n    </tr>\n  </thead>\n  <tbody>\n    <tr>\n      <th>count</th>\n      <td>0.0</td>\n      <td>6538.000000</td>\n      <td>335.000000</td>\n      <td>1827.000000</td>\n      <td>20198.000000</td>\n      <td>17725.000000</td>\n      <td>18291.000000</td>\n      <td>17586.000000</td>\n      <td>18891.000000</td>\n      <td>54818.000000</td>\n      <td>...</td>\n      <td>1647.000000</td>\n      <td>1647.000000</td>\n      <td>1647.000000</td>\n      <td>1647.000000</td>\n      <td>1647.000000</td>\n      <td>1647.000000</td>\n      <td>1647.000000</td>\n      <td>1647.000000</td>\n      <td>1647.000000</td>\n      <td>1647.000000</td>\n    </tr>\n    <tr>\n      <th>mean</th>\n      <td>NaN</td>\n      <td>7.214056</td>\n      <td>8.253433</td>\n      <td>1.887258</td>\n      <td>0.456848</td>\n      <td>0.257205</td>\n      <td>0.140808</td>\n      <td>0.071244</td>\n      <td>0.044936</td>\n      <td>2005.659108</td>\n      <td>...</td>\n      <td>0.011536</td>\n      <td>0.043716</td>\n      <td>0.069217</td>\n      <td>0.040073</td>\n      <td>0.159684</td>\n      <td>0.041287</td>\n      <td>0.131755</td>\n      <td>0.020036</td>\n      <td>0.017001</td>\n      <td>0.058288</td>\n    </tr>\n    <tr>\n      <th>std</th>\n      <td>NaN</td>\n      <td>1.453993</td>\n      <td>1.401489</td>\n      <td>4.195693</td>\n      <td>1.393013</td>\n      <td>0.784721</td>\n      <td>0.497178</td>\n      <td>0.259441</td>\n      <td>0.180023</td>\n      <td>8.355286</td>\n      <td>...</td>\n      <td>0.106817</td>\n      <td>0.204524</td>\n      <td>0.253899</td>\n      <td>0.196190</td>\n      <td>0.366424</td>\n      <td>0.199014</td>\n      <td>0.338327</td>\n      <td>0.140167</td>\n      <td>0.129313</td>\n      <td>0.234358</td>\n    </tr>\n    <tr>\n      <th>min</th>\n      <td>NaN</td>\n      <td>1.000000</td>\n      <td>2.000000</td>\n      <td>0.030000</td>\n      <td>0.000000</td>\n      <td>0.000000</td>\n      <td>0.000000</td>\n      <td>0.000000</td>\n      <td>0.000000</td>\n      <td>1970.000000</td>\n      <td>...</td>\n      <td>0.000000</td>\n      <td>0.000000</td>\n      <td>0.000000</td>\n      <td>0.000000</td>\n      <td>0.000000</td>\n      <td>0.000000</td>\n      <td>0.000000</td>\n      <td>0.000000</td>\n      <td>0.000000</td>\n      <td>0.000000</td>\n    </tr>\n    <tr>\n      <th>25%</th>\n      <td>NaN</td>\n      <td>6.400000</td>\n      <td>7.800000</td>\n      <td>0.200000</td>\n      <td>0.040000</td>\n      <td>0.010000</td>\n      <td>0.000000</td>\n      <td>0.000000</td>\n      <td>0.000000</td>\n      <td>2000.000000</td>\n      <td>...</td>\n      <td>0.000000</td>\n      <td>0.000000</td>\n      <td>0.000000</td>\n      <td>0.000000</td>\n      <td>0.000000</td>\n      <td>0.000000</td>\n      <td>0.000000</td>\n      <td>0.000000</td>\n      <td>0.000000</td>\n      <td>0.000000</td>\n    </tr>\n    <tr>\n      <th>50%</th>\n      <td>NaN</td>\n      <td>7.500000</td>\n      <td>8.500000</td>\n      <td>0.590000</td>\n      <td>0.130000</td>\n      <td>0.080000</td>\n      <td>0.020000</td>\n      <td>0.000000</td>\n      <td>0.010000</td>\n      <td>2008.000000</td>\n      <td>...</td>\n      <td>0.000000</td>\n      <td>0.000000</td>\n      <td>0.000000</td>\n      <td>0.000000</td>\n      <td>0.000000</td>\n      <td>0.000000</td>\n      <td>0.000000</td>\n      <td>0.000000</td>\n      <td>0.000000</td>\n      <td>0.000000</td>\n    </tr>\n    <tr>\n      <th>75%</th>\n      <td>NaN</td>\n      <td>8.300000</td>\n      <td>9.100000</td>\n      <td>1.800000</td>\n      <td>0.400000</td>\n      <td>0.230000</td>\n      <td>0.100000</td>\n      <td>0.040000</td>\n      <td>0.030000</td>\n      <td>2011.000000</td>\n      <td>...</td>\n      <td>0.000000</td>\n      <td>0.000000</td>\n      <td>0.000000</td>\n      <td>0.000000</td>\n      <td>0.000000</td>\n      <td>0.000000</td>\n      <td>0.000000</td>\n      <td>0.000000</td>\n      <td>0.000000</td>\n      <td>0.000000</td>\n    </tr>\n    <tr>\n      <th>max</th>\n      <td>NaN</td>\n      <td>10.000000</td>\n      <td>10.000000</td>\n      <td>82.860000</td>\n      <td>82.740000</td>\n      <td>41.490000</td>\n      <td>29.020000</td>\n      <td>6.810000</td>\n      <td>10.570000</td>\n      <td>2020.000000</td>\n      <td>...</td>\n      <td>1.000000</td>\n      <td>1.000000</td>\n      <td>1.000000</td>\n      <td>1.000000</td>\n      <td>1.000000</td>\n      <td>1.000000</td>\n      <td>1.000000</td>\n      <td>1.000000</td>\n      <td>1.000000</td>\n      <td>1.000000</td>\n    </tr>\n  </tbody>\n</table>\n<p>8 rows × 44 columns</p>\n</div>"
     },
     "execution_count": 208,
     "metadata": {},
     "output_type": "execute_result"
    }
   ],
   "source": [
    "df.describe()"
   ],
   "metadata": {
    "collapsed": false,
    "pycharm": {
     "name": "#%%\n"
    }
   }
  },
  {
   "cell_type": "code",
   "execution_count": 209,
   "outputs": [],
   "source": [
    "df.to_csv(\"datasets/df.csv\")"
   ],
   "metadata": {
    "collapsed": false,
    "pycharm": {
     "name": "#%%\n"
    }
   }
  },
  {
   "cell_type": "code",
   "execution_count": 210,
   "outputs": [],
   "source": [
    "df_copy = df.copy()"
   ],
   "metadata": {
    "collapsed": false,
    "pycharm": {
     "name": "#%%\n"
    }
   }
  },
  {
   "cell_type": "code",
   "execution_count": 211,
   "outputs": [
    {
     "name": "stdout",
     "output_type": "stream",
     "text": [
      "<class 'pandas.core.frame.DataFrame'>\n",
      "Int64Index: 55796 entries, 0 to 55795\n",
      "Data columns (total 54 columns):\n",
      " #   Column                    Non-Null Count  Dtype  \n",
      "---  ------                    --------------  -----  \n",
      " 0   Name                      55796 non-null  object \n",
      " 1   basename                  55796 non-null  object \n",
      " 2   Genre                     55796 non-null  object \n",
      " 3   ESRB_Rating               24525 non-null  object \n",
      " 4   Platform                  55796 non-null  object \n",
      " 5   Publisher                 55796 non-null  object \n",
      " 6   Developer                 55779 non-null  object \n",
      " 7   VGChartz_Score            0 non-null      float64\n",
      " 8   Critic_Score              6538 non-null   float64\n",
      " 9   User_Score                335 non-null    float64\n",
      " 10  Total_Shipped             1827 non-null   float64\n",
      " 11  Global_Sales              20198 non-null  float64\n",
      " 12  NA_Sales                  17725 non-null  float64\n",
      " 13  EU_Sales                  18291 non-null  float64\n",
      " 14  JP_Sales                  17586 non-null  float64\n",
      " 15  Other_Sales               18891 non-null  float64\n",
      " 16  Year                      54818 non-null  float64\n",
      " 17  Last_Update               9187 non-null   object \n",
      " 18  url                       55796 non-null  object \n",
      " 19  status                    55796 non-null  int64  \n",
      " 20  Vgchartzscore             799 non-null    float64\n",
      " 21  img_url                   55796 non-null  object \n",
      " 22  console                   1647 non-null   float64\n",
      " 23  alcohol_reference         1647 non-null   float64\n",
      " 24  animated_blood            1647 non-null   float64\n",
      " 25  blood                     1647 non-null   float64\n",
      " 26  blood_and_gore            1647 non-null   float64\n",
      " 27  cartoon_violence          1647 non-null   float64\n",
      " 28  crude_humor               1647 non-null   float64\n",
      " 29  drug_reference            1647 non-null   float64\n",
      " 30  fantasy_violence          1647 non-null   float64\n",
      " 31  intense_violence          1647 non-null   float64\n",
      " 32  language                  1647 non-null   float64\n",
      " 33  lyrics                    1647 non-null   float64\n",
      " 34  mature_humor              1647 non-null   float64\n",
      " 35  mild_blood                1647 non-null   float64\n",
      " 36  mild_cartoon_violence     1647 non-null   float64\n",
      " 37  mild_fantasy_violence     1647 non-null   float64\n",
      " 38  mild_language             1647 non-null   float64\n",
      " 39  mild_lyrics               1647 non-null   float64\n",
      " 40  mild_suggestive_themes    1647 non-null   float64\n",
      " 41  mild_violence             1647 non-null   float64\n",
      " 42  no_descriptors            1647 non-null   float64\n",
      " 43  nudity                    1647 non-null   float64\n",
      " 44  partial_nudity            1647 non-null   float64\n",
      " 45  sexual_content            1647 non-null   float64\n",
      " 46  sexual_themes             1647 non-null   float64\n",
      " 47  simulated_gambling        1647 non-null   float64\n",
      " 48  strong_janguage           1647 non-null   float64\n",
      " 49  strong_sexual_content     1647 non-null   float64\n",
      " 50  suggestive_themes         1647 non-null   float64\n",
      " 51  use_of_alcohol            1647 non-null   float64\n",
      " 52  use_of_drugs_and_alcohol  1647 non-null   float64\n",
      " 53  violence                  1647 non-null   float64\n",
      "dtypes: float64(43), int64(1), object(10)\n",
      "memory usage: 23.4+ MB\n"
     ]
    }
   ],
   "source": [
    "df_copy.info()"
   ],
   "metadata": {
    "collapsed": false,
    "pycharm": {
     "name": "#%%\n"
    }
   }
  },
  {
   "cell_type": "code",
   "execution_count": 212,
   "outputs": [],
   "source": [
    "df_copy = df.drop(columns=['VGChartz_Score'])"
   ],
   "metadata": {
    "collapsed": false,
    "pycharm": {
     "name": "#%%\n"
    }
   }
  },
  {
   "cell_type": "code",
   "execution_count": 213,
   "outputs": [
    {
     "name": "stdout",
     "output_type": "stream",
     "text": [
      "Shape of fact_copy is (55792, 54)\n"
     ]
    }
   ],
   "source": [
    "print(f\"Shape of fact_copy is {df_copy.shape}\")"
   ],
   "metadata": {
    "collapsed": false,
    "pycharm": {
     "name": "#%%\n"
    }
   }
  },
  {
   "cell_type": "code",
   "execution_count": 214,
   "outputs": [
    {
     "name": "stdout",
     "output_type": "stream",
     "text": [
      "<class 'pandas.core.frame.DataFrame'>\n",
      "Int64Index: 55792 entries, 0 to 55791\n",
      "Data columns (total 54 columns):\n",
      " #   Column                    Non-Null Count  Dtype  \n",
      "---  ------                    --------------  -----  \n",
      " 0   Rank                      55792 non-null  int64  \n",
      " 1   Name                      55792 non-null  object \n",
      " 2   basename                  55792 non-null  object \n",
      " 3   Genre                     55792 non-null  object \n",
      " 4   ESRB_Rating               24522 non-null  object \n",
      " 5   Platform                  55792 non-null  object \n",
      " 6   Publisher                 55792 non-null  object \n",
      " 7   Developer                 55775 non-null  object \n",
      " 8   Critic_Score              6536 non-null   float64\n",
      " 9   User_Score                335 non-null    float64\n",
      " 10  Total_Shipped             1827 non-null   float64\n",
      " 11  Global_Sales              19415 non-null  float64\n",
      " 12  NA_Sales                  12964 non-null  float64\n",
      " 13  PAL_Sales                 13189 non-null  float64\n",
      " 14  JP_Sales                  7043 non-null   float64\n",
      " 15  Other_Sales               15522 non-null  float64\n",
      " 16  Year                      54813 non-null  float64\n",
      " 17  Last_Update               9186 non-null   object \n",
      " 18  url                       55792 non-null  object \n",
      " 19  status                    55792 non-null  int64  \n",
      " 20  Vgchartzscore             799 non-null    float64\n",
      " 21  img_url                   55792 non-null  object \n",
      " 22  console                   1647 non-null   float64\n",
      " 23  alcohol_reference         1647 non-null   float64\n",
      " 24  animated_blood            1647 non-null   float64\n",
      " 25  blood                     1647 non-null   float64\n",
      " 26  blood_and_gore            1647 non-null   float64\n",
      " 27  cartoon_violence          1647 non-null   float64\n",
      " 28  crude_humor               1647 non-null   float64\n",
      " 29  drug_reference            1647 non-null   float64\n",
      " 30  fantasy_violence          1647 non-null   float64\n",
      " 31  intense_violence          1647 non-null   float64\n",
      " 32  language                  1647 non-null   float64\n",
      " 33  lyrics                    1647 non-null   float64\n",
      " 34  mature_humor              1647 non-null   float64\n",
      " 35  mild_blood                1647 non-null   float64\n",
      " 36  mild_cartoon_violence     1647 non-null   float64\n",
      " 37  mild_fantasy_violence     1647 non-null   float64\n",
      " 38  mild_language             1647 non-null   float64\n",
      " 39  mild_lyrics               1647 non-null   float64\n",
      " 40  mild_suggestive_themes    1647 non-null   float64\n",
      " 41  mild_violence             1647 non-null   float64\n",
      " 42  no_descriptors            1647 non-null   float64\n",
      " 43  nudity                    1647 non-null   float64\n",
      " 44  partial_nudity            1647 non-null   float64\n",
      " 45  sexual_content            1647 non-null   float64\n",
      " 46  sexual_themes             1647 non-null   float64\n",
      " 47  simulated_gambling        1647 non-null   float64\n",
      " 48  strong_janguage           1647 non-null   float64\n",
      " 49  strong_sexual_content     1647 non-null   float64\n",
      " 50  suggestive_themes         1647 non-null   float64\n",
      " 51  use_of_alcohol            1647 non-null   float64\n",
      " 52  use_of_drugs_and_alcohol  1647 non-null   float64\n",
      " 53  violence                  1647 non-null   float64\n",
      "dtypes: float64(42), int64(2), object(10)\n",
      "memory usage: 23.4+ MB\n"
     ]
    }
   ],
   "source": [
    "df_copy.info()"
   ],
   "metadata": {
    "collapsed": false,
    "pycharm": {
     "name": "#%%\n"
    }
   }
  },
  {
   "cell_type": "code",
   "execution_count": 215,
   "outputs": [],
   "source": [
    "df_vg_additional_sales = pd.read_csv(\"datasets/vgsales-4.csv\")"
   ],
   "metadata": {
    "collapsed": false,
    "pycharm": {
     "name": "#%%\n"
    }
   }
  },
  {
   "cell_type": "code",
   "execution_count": 216,
   "outputs": [
    {
     "name": "stdout",
     "output_type": "stream",
     "text": [
      "<class 'pandas.core.frame.DataFrame'>\n",
      "RangeIndex: 17416 entries, 0 to 17415\n",
      "Data columns (total 15 columns):\n",
      " #   Column           Non-Null Count  Dtype  \n",
      "---  ------           --------------  -----  \n",
      " 0   Name             17416 non-null  object \n",
      " 1   Platform         17416 non-null  object \n",
      " 2   Year_of_Release  17408 non-null  float64\n",
      " 3   Genre            17416 non-null  object \n",
      " 4   Publisher        17415 non-null  object \n",
      " 5   NA_Sales         17416 non-null  float64\n",
      " 6   EU_Sales         17416 non-null  float64\n",
      " 7   JP_Sales         17416 non-null  float64\n",
      " 8   Other_Sales      17416 non-null  float64\n",
      " 9   Global_Sales     17416 non-null  float64\n",
      " 10  Critic_Score     8336 non-null   float64\n",
      " 11  Critic_Count     8336 non-null   float64\n",
      " 12  User_Score       7798 non-null   float64\n",
      " 13  User_Count       7798 non-null   float64\n",
      " 14  Rating           10252 non-null  object \n",
      "dtypes: float64(10), object(5)\n",
      "memory usage: 2.0+ MB\n"
     ]
    }
   ],
   "source": [
    "df_vg_additional_sales.info()"
   ],
   "metadata": {
    "collapsed": false,
    "pycharm": {
     "name": "#%%\n"
    }
   }
  },
  {
   "cell_type": "code",
   "execution_count": 217,
   "outputs": [],
   "source": [
    "fact_copy2 = pd.merge(fact_copy, df_vg_additional_sales, how=\"left\", left_on=[\"Name\", \"Platform\"], right_on=[\"Name\",\"Platform\"])"
   ],
   "metadata": {
    "collapsed": false,
    "pycharm": {
     "name": "#%%\n"
    }
   }
  },
  {
   "cell_type": "code",
   "execution_count": 218,
   "outputs": [
    {
     "data": {
      "text/plain": "Index(['Rank', 'Name', 'basename', 'Genre_x', 'ESRB_Rating', 'Platform',\n       'Publisher_x', 'Developer', 'Critic_Score_x', 'User_Score_x',\n       'Total_Shipped', 'Global_Sales_x', 'NA_Sales_x', 'PAL_Sales',\n       'JP_Sales_x', 'Other_Sales_x', 'Year', 'Last_Update', 'url', 'status',\n       'Vgchartzscore', 'img_url', 'console', 'alcohol_reference',\n       'animated_blood', 'blood', 'blood_and_gore', 'cartoon_violence',\n       'crude_humor', 'drug_reference', 'fantasy_violence', 'intense_violence',\n       'language', 'lyrics', 'mature_humor', 'mild_blood',\n       'mild_cartoon_violence', 'mild_fantasy_violence', 'mild_language',\n       'mild_lyrics', 'mild_suggestive_themes', 'mild_violence',\n       'no_descriptors', 'nudity', 'partial_nudity', 'sexual_content',\n       'sexual_themes', 'simulated_gambling', 'strong_janguage',\n       'strong_sexual_content', 'suggestive_themes', 'use_of_alcohol',\n       'use_of_drugs_and_alcohol', 'violence', 'Year_of_Release', 'Genre_y',\n       'Publisher_y', 'NA_Sales_y', 'EU_Sales', 'JP_Sales_y', 'Other_Sales_y',\n       'Global_Sales_y', 'Critic_Score_y', 'Critic_Count', 'User_Score_y',\n       'User_Count', 'Rating'],\n      dtype='object')"
     },
     "execution_count": 218,
     "metadata": {},
     "output_type": "execute_result"
    }
   ],
   "source": [
    "fact_copy2.columns"
   ],
   "metadata": {
    "collapsed": false,
    "pycharm": {
     "name": "#%%\n"
    }
   }
  },
  {
   "cell_type": "code",
   "execution_count": 219,
   "outputs": [
    {
     "ename": "AttributeError",
     "evalue": "'DataFrame' object has no attribute 'EU_Sales_x'",
     "output_type": "error",
     "traceback": [
      "\u001B[0;31m---------------------------------------------------------------------------\u001B[0m",
      "\u001B[0;31mAttributeError\u001B[0m                            Traceback (most recent call last)",
      "Input \u001B[0;32mIn [219]\u001B[0m, in \u001B[0;36m<cell line: 5>\u001B[0;34m()\u001B[0m\n\u001B[1;32m      3\u001B[0m fact_copy2\u001B[38;5;241m.\u001B[39mNA_Sales_x\u001B[38;5;241m.\u001B[39mfillna(fact_copy2\u001B[38;5;241m.\u001B[39mNA_Sales_y, inplace\u001B[38;5;241m=\u001B[39m\u001B[38;5;28;01mTrue\u001B[39;00m)\n\u001B[1;32m      4\u001B[0m \u001B[38;5;28;01mdel\u001B[39;00m fact_copy2[\u001B[38;5;124m'\u001B[39m\u001B[38;5;124mNA_Sales_y\u001B[39m\u001B[38;5;124m'\u001B[39m]\n\u001B[0;32m----> 5\u001B[0m \u001B[43mfact_copy2\u001B[49m\u001B[38;5;241;43m.\u001B[39;49m\u001B[43mEU_Sales_x\u001B[49m\u001B[38;5;241m.\u001B[39mfillna(fact_copy2\u001B[38;5;241m.\u001B[39mEU_Sales_y, inplace\u001B[38;5;241m=\u001B[39m\u001B[38;5;28;01mTrue\u001B[39;00m)\n\u001B[1;32m      6\u001B[0m \u001B[38;5;28;01mdel\u001B[39;00m fact_copy2[\u001B[38;5;124m'\u001B[39m\u001B[38;5;124mEU_Sales_y\u001B[39m\u001B[38;5;124m'\u001B[39m]\n\u001B[1;32m      7\u001B[0m fact_copy2\u001B[38;5;241m.\u001B[39mJP_Sales_x\u001B[38;5;241m.\u001B[39mfillna(fact_copy2\u001B[38;5;241m.\u001B[39mJP_Sales_y, inplace\u001B[38;5;241m=\u001B[39m\u001B[38;5;28;01mTrue\u001B[39;00m)\n",
      "File \u001B[0;32m/usr/local/anaconda3/envs/VideoGamesAnalysis2/lib/python3.8/site-packages/pandas/core/generic.py:5575\u001B[0m, in \u001B[0;36mNDFrame.__getattr__\u001B[0;34m(self, name)\u001B[0m\n\u001B[1;32m   5568\u001B[0m \u001B[38;5;28;01mif\u001B[39;00m (\n\u001B[1;32m   5569\u001B[0m     name \u001B[38;5;129;01mnot\u001B[39;00m \u001B[38;5;129;01min\u001B[39;00m \u001B[38;5;28mself\u001B[39m\u001B[38;5;241m.\u001B[39m_internal_names_set\n\u001B[1;32m   5570\u001B[0m     \u001B[38;5;129;01mand\u001B[39;00m name \u001B[38;5;129;01mnot\u001B[39;00m \u001B[38;5;129;01min\u001B[39;00m \u001B[38;5;28mself\u001B[39m\u001B[38;5;241m.\u001B[39m_metadata\n\u001B[1;32m   5571\u001B[0m     \u001B[38;5;129;01mand\u001B[39;00m name \u001B[38;5;129;01mnot\u001B[39;00m \u001B[38;5;129;01min\u001B[39;00m \u001B[38;5;28mself\u001B[39m\u001B[38;5;241m.\u001B[39m_accessors\n\u001B[1;32m   5572\u001B[0m     \u001B[38;5;129;01mand\u001B[39;00m \u001B[38;5;28mself\u001B[39m\u001B[38;5;241m.\u001B[39m_info_axis\u001B[38;5;241m.\u001B[39m_can_hold_identifiers_and_holds_name(name)\n\u001B[1;32m   5573\u001B[0m ):\n\u001B[1;32m   5574\u001B[0m     \u001B[38;5;28;01mreturn\u001B[39;00m \u001B[38;5;28mself\u001B[39m[name]\n\u001B[0;32m-> 5575\u001B[0m \u001B[38;5;28;01mreturn\u001B[39;00m \u001B[38;5;28;43mobject\u001B[39;49m\u001B[38;5;241;43m.\u001B[39;49m\u001B[38;5;21;43m__getattribute__\u001B[39;49m\u001B[43m(\u001B[49m\u001B[38;5;28;43mself\u001B[39;49m\u001B[43m,\u001B[49m\u001B[43m \u001B[49m\u001B[43mname\u001B[49m\u001B[43m)\u001B[49m\n",
      "\u001B[0;31mAttributeError\u001B[0m: 'DataFrame' object has no attribute 'EU_Sales_x'"
     ]
    }
   ],
   "source": [
    "fact_copy2 = fact_copy2.drop(columns=['Publisher_y', 'Genre_y'])\n",
    "\n",
    "fact_copy2.NA_Sales_x.fillna(fact_copy2.NA_Sales_y, inplace=True)\n",
    "del fact_copy2['NA_Sales_y']\n",
    "fact_copy2.EU_Sales_x.fillna(fact_copy2.EU_Sales_y, inplace=True)\n",
    "del fact_copy2['EU_Sales_y']\n",
    "fact_copy2.JP_Sales_x.fillna(fact_copy2.JP_Sales_y, inplace=True)\n",
    "del fact_copy2['JP_Sales_y']\n",
    "fact_copy2.Other_Sales_x.fillna(fact_copy2.Other_Sales_y, inplace=True)\n",
    "del fact_copy2['Other_Sales_y']\n",
    "fact_copy2.Global_Sales_x.fillna(fact_copy2.Global_Sales_y, inplace=True)\n",
    "del fact_copy2['Global_Sales_y']\n",
    "fact_copy2.Critic_Score_x.fillna(fact_copy2.Critic_Score_y, inplace=True)\n",
    "del fact_copy2['Critic_Score_y']\n",
    "fact_copy2.User_Score_x.fillna(fact_copy2.User_Score_y, inplace=True)\n",
    "del fact_copy2['User_Score_y']\n",
    "fact_copy2.ESRB_Rating.fillna(fact_copy2.Rating, inplace=True)\n",
    "del fact_copy2['Rating']\n",
    "fact_copy2.Year.fillna(fact_copy2.Year_of_Release, inplace=True)\n",
    "del fact_copy2['Year_of_Release']\n",
    "\n",
    "fact_copy2.rename(columns = {'Genre_x':'Genre', 'Publisher_x':'Publisher','Global_Sales_x':'Global_Sales','NA_Sales_x':'NA_Sales','EU_Sales_x':'EU_Sales','JP_Sales_x':'JP_Sales','Other_Sales_x':'Other_Sales', 'Critic_Score_x':'Critic_Score', 'User_Score_x':'User_Score', }, inplace = True)"
   ],
   "metadata": {
    "collapsed": false,
    "pycharm": {
     "name": "#%%\n"
    }
   }
  },
  {
   "cell_type": "code",
   "execution_count": null,
   "outputs": [],
   "source": [
    "fact_copy.info()"
   ],
   "metadata": {
    "collapsed": false,
    "pycharm": {
     "name": "#%%\n"
    }
   }
  },
  {
   "cell_type": "code",
   "execution_count": null,
   "outputs": [],
   "source": [
    "fact_copy2.info()"
   ],
   "metadata": {
    "collapsed": false,
    "pycharm": {
     "name": "#%%\n"
    }
   }
  },
  {
   "cell_type": "code",
   "execution_count": null,
   "outputs": [],
   "source": [
    "# Define Data\n",
    "mplt.figure(figsize=[15,10])\n",
    "\n",
    "parameter = ['esrb', 'year', 'u_score', 'c_score', 'na', 'eu', 'jp', 'os', 'gs']\n",
    "\n",
    "esrb1 = len(fact_copy.loc[fact_copy['ESRB_Rating'].notnull()].ESRB_Rating)\n",
    "year1 = len(fact_copy.loc[fact_copy['Year'].notnull()].Year)\n",
    "u_score1 = len(fact_copy.loc[fact_copy['User_Score'].notnull()].User_Score)\n",
    "c_score1 = len(fact_copy.loc[fact_copy['Critic_Score'].notnull()].Critic_Score)\n",
    "na1 = len(fact_copy.loc[fact_copy['NA_Sales'].notnull()].NA_Sales)\n",
    "eu1 = len(fact_copy.loc[fact_copy['EU_Sales'].notnull()].EU_Sales)\n",
    "jp1 = len(fact_copy.loc[fact_copy['JP_Sales'].notnull()].JP_Sales)\n",
    "os1 = len(fact_copy.loc[fact_copy['Other_Sales'].notnull()].Other_Sales)\n",
    "gs1 = len(fact_copy.loc[fact_copy['Global_Sales'].notnull()].Global_Sales)\n",
    "\n",
    "esrb2 = len(fact_copy2.loc[fact_copy2['ESRB_Rating'].notnull()].ESRB_Rating)\n",
    "year2 = len(fact_copy2.loc[fact_copy2['Year'].notnull()].Year)\n",
    "u_score2 = len(fact_copy2.loc[fact_copy2['User_Score'].notnull()].User_Score)\n",
    "c_score2 = len(fact_copy2.loc[fact_copy2['Critic_Score'].notnull()].Critic_Score)\n",
    "na2 = len(fact_copy2.loc[fact_copy2['NA_Sales'].notnull()].NA_Sales)\n",
    "eu2 = len(fact_copy2.loc[fact_copy2['EU_Sales'].notnull()].EU_Sales)\n",
    "jp2 = len(fact_copy2.loc[fact_copy2['JP_Sales'].notnull()].JP_Sales)\n",
    "os2 = len(fact_copy2.loc[fact_copy2['Other_Sales'].notnull()].Other_Sales)\n",
    "gs2 = len(fact_copy2.loc[fact_copy2['Global_Sales'].notnull()].Global_Sales)\n",
    "\n",
    "without_addition = [esrb1, year1, u_score1, c_score1, na1, eu1, jp1, os1, gs1]\n",
    "with_addition = [esrb2, year2, u_score2, c_score2, na2, eu2, jp2, os2, gs2]\n",
    "\n",
    "x_axis = np.arange(len(parameter))\n",
    "\n",
    "# Multi bar Chart\n",
    "\n",
    "mplt.bar(x_axis -0.2, without_addition, width=0.4, label = 'without_addition')\n",
    "mplt.bar(x_axis +0.2, with_addition, width=0.4, label = 'with_addition')\n",
    "\n",
    "\n",
    "mplt.xticks(x_axis, parameter)\n",
    "mplt.legend()\n",
    "# Display\n",
    "mplt.show()"
   ],
   "metadata": {
    "collapsed": false,
    "pycharm": {
     "name": "#%%\n"
    }
   }
  },
  {
   "cell_type": "code",
   "execution_count": null,
   "outputs": [],
   "source": [
    "mplt.figure(figsize=[15,10])\n",
    "# Define Data\n",
    "\n",
    "parameter_year = ['year']\n",
    "\n",
    "year1 = len(fact_copy.loc[fact_copy['Year'].notnull()].Year) - 54500\n",
    "year2 = len(fact_copy2.loc[fact_copy2['Year'].notnull()].Year) - 54500\n",
    "\n",
    "without_addition = [year1]\n",
    "with_addition = [year2]\n",
    "\n",
    "x_axis_year = np.arange(len(parameter_year))\n",
    "\n",
    "# Multi bar Chart\n",
    "\n",
    "mplt.bar(x_axis_year -0.05, without_addition, width=0.1, label = 'without_addition')\n",
    "mplt.bar(x_axis_year +0.05, with_addition, width=0.1, label = 'with_addition')\n",
    "\n",
    "mplt.xticks(x_axis_year, parameter_year)\n",
    "mplt.legend()\n",
    "# Display\n",
    "mplt.show()"
   ],
   "metadata": {
    "collapsed": false,
    "pycharm": {
     "name": "#%%\n"
    }
   }
  },
  {
   "cell_type": "code",
   "execution_count": null,
   "outputs": [],
   "source": [
    "mplt.figure(figsize=[15,10])\n",
    "# Define Data\n",
    "\n",
    "parameter_sales_esrb = ['esrb', 'na', 'eu', 'jp', 'os', 'gs']\n",
    "\n",
    "esrb1 = len(fact_copy.loc[fact_copy['ESRB_Rating'].notnull()].ESRB_Rating)\n",
    "na1 = len(fact_copy.loc[fact_copy['NA_Sales'].notnull()].NA_Sales)\n",
    "eu1 = len(fact_copy.loc[fact_copy['EU_Sales'].notnull()].EU_Sales)\n",
    "jp1 = len(fact_copy.loc[fact_copy['JP_Sales'].notnull()].JP_Sales)\n",
    "os1 = len(fact_copy.loc[fact_copy['Other_Sales'].notnull()].Other_Sales)\n",
    "gs1 = len(fact_copy.loc[fact_copy['Global_Sales'].notnull()].Global_Sales)\n",
    "\n",
    "esrb2 = len(fact_copy2.loc[fact_copy2['ESRB_Rating'].notnull()].ESRB_Rating)\n",
    "na2 = len(fact_copy2.loc[fact_copy2['NA_Sales'].notnull()].NA_Sales)\n",
    "eu2 = len(fact_copy2.loc[fact_copy2['EU_Sales'].notnull()].EU_Sales)\n",
    "jp2 = len(fact_copy2.loc[fact_copy2['JP_Sales'].notnull()].JP_Sales)\n",
    "os2 = len(fact_copy2.loc[fact_copy2['Other_Sales'].notnull()].Other_Sales)\n",
    "gs2 = len(fact_copy2.loc[fact_copy2['Global_Sales'].notnull()].Global_Sales)\n",
    "\n",
    "without_addition = [esrb1 - 17000, na1 - 17000, eu1 - 17000, jp1 - 17000, os1 - 17000, gs1 - 17000]\n",
    "with_addition = [esrb2 - 17000, na2 - 17000, eu2 - 17000, jp2 - 17000, os2 - 17000, gs2 - 17000]\n",
    "\n",
    "x_axis_sales = np.arange(len(parameter_sales_esrb))\n",
    "\n",
    "# Multi bar Chart\n",
    "\n",
    "mplt.bar(x_axis_sales -0.2, without_addition, width=0.4, label = 'without_addition')\n",
    "mplt.bar(x_axis_sales +0.2, with_addition, width=0.4, label = 'with_addition')\n",
    "\n",
    "mplt.xticks(x_axis_sales, parameter_sales_esrb)\n",
    "mplt.legend()\n",
    "# Display\n",
    "mplt.show()"
   ],
   "metadata": {
    "collapsed": false,
    "pycharm": {
     "name": "#%%\n"
    }
   }
  },
  {
   "cell_type": "code",
   "execution_count": null,
   "outputs": [],
   "source": [
    "mplt.figure(figsize=[15,10])\n",
    "# Define Data\n",
    "\n",
    "parameter_score = ['u_score', 'c_score']\n",
    "\n",
    "u_score1 = len(fact_copy.loc[fact_copy['User_Score'].notnull()].User_Score)\n",
    "c_score1 = len(fact_copy.loc[fact_copy['Critic_Score'].notnull()].Critic_Score)\n",
    "\n",
    "u_score2 = len(fact_copy2.loc[fact_copy2['User_Score'].notnull()].User_Score)\n",
    "c_score2 = len(fact_copy2.loc[fact_copy2['Critic_Score'].notnull()].Critic_Score)\n",
    "\n",
    "without_addition = [u_score1, c_score1]\n",
    "with_addition = [u_score2, c_score2]\n",
    "\n",
    "x_axis_score = np.arange(len(parameter_score))\n",
    "\n",
    "# Multi bar Chart\n",
    "\n",
    "mplt.bar(x_axis_score -0.2, without_addition, width=0.4, label = 'without_addition')\n",
    "mplt.bar(x_axis_score +0.2, with_addition, width=0.4, label = 'with_addition')\n",
    "\n",
    "mplt.xticks(x_axis_score, parameter_score)\n",
    "mplt.legend()\n",
    "# Display\n",
    "mplt.show()"
   ],
   "metadata": {
    "collapsed": false,
    "pycharm": {
     "name": "#%%\n"
    }
   }
  },
  {
   "cell_type": "code",
   "execution_count": null,
   "outputs": [],
   "source": [
    "fact_df = fact_copy2"
   ],
   "metadata": {
    "collapsed": false,
    "pycharm": {
     "name": "#%%\n"
    }
   }
  },
  {
   "cell_type": "code",
   "execution_count": null,
   "outputs": [],
   "source": [
    "fact_df.describe()"
   ],
   "metadata": {
    "collapsed": false,
    "pycharm": {
     "name": "#%%\n"
    }
   }
  },
  {
   "cell_type": "code",
   "execution_count": null,
   "outputs": [],
   "source": [
    "fact_df.to_csv('datasets/fact.csv')"
   ],
   "metadata": {
    "collapsed": false,
    "pycharm": {
     "name": "#%%\n"
    }
   }
  },
  {
   "cell_type": "code",
   "execution_count": null,
   "outputs": [],
   "source": [
    "percent_missing_func(fact_df)"
   ],
   "metadata": {
    "collapsed": false,
    "pycharm": {
     "name": "#%%\n"
    }
   }
  },
  {
   "cell_type": "code",
   "execution_count": null,
   "outputs": [],
   "source": [
    "sales_df = fact_df[['Rank', 'Name', 'Platform', 'basename', 'Genre', 'ESRB_Rating', 'Publisher', 'Developer', 'Total_Shipped', 'Global_Sales', 'NA_Sales', 'EU_Sales', 'JP_Sales', 'Other_Sales', 'Year', 'Last_Update', 'url', 'img_url', 'status', 'Vgchartzscore','Critic_Score', 'Critic_Count', 'User_Score', 'User_Count']]\n",
    "\n",
    "esrb_df = fact_df[['Name', 'Platform', 'Genre', 'ESRB_Rating', 'Publisher', 'Developer', 'Critic_Score', 'Critic_Count', 'User_Score', 'User_Count', 'alcohol_reference', 'animated_blood', 'blood', 'blood_and_gore', 'cartoon_violence', 'crude_humor', 'drug_reference', 'fantasy_violence', 'intense_violence', 'language', 'lyrics', 'mature_humor', 'mild_blood', 'mild_cartoon_violence', 'mild_fantasy_violence', 'mild_language', 'mild_lyrics', 'mild_suggestive_themes', 'mild_violence', 'no_descriptors', 'nudity', 'partial_nudity', 'sexual_content', 'sexual_themes', 'simulated_gambling', 'strong_janguage','strong_sexual_content', 'suggestive_themes', 'use_of_alcohol','use_of_drugs_and_alcohol', 'violence']]"
   ],
   "metadata": {
    "collapsed": false,
    "pycharm": {
     "name": "#%%\n"
    }
   }
  },
  {
   "cell_type": "code",
   "execution_count": null,
   "outputs": [],
   "source": [
    "sales_df['Name_Platform'] = sales_df['Name'] + \"_\" + sales_df['Platform']"
   ],
   "metadata": {
    "collapsed": false,
    "pycharm": {
     "name": "#%%\n"
    }
   }
  },
  {
   "cell_type": "code",
   "execution_count": null,
   "outputs": [],
   "source": [
    "sales_df.nunique()"
   ],
   "metadata": {
    "collapsed": false,
    "pycharm": {
     "name": "#%%\n"
    }
   }
  },
  {
   "cell_type": "code",
   "execution_count": null,
   "outputs": [],
   "source": [
    "sales_df.select_dtypes('object').nunique()"
   ],
   "metadata": {
    "collapsed": false,
    "pycharm": {
     "name": "#%%\n"
    }
   }
  },
  {
   "cell_type": "code",
   "execution_count": null,
   "outputs": [],
   "source": [
    "percent_missing_func(sales_df)"
   ],
   "metadata": {
    "collapsed": false,
    "pycharm": {
     "name": "#%%\n"
    }
   }
  },
  {
   "cell_type": "code",
   "execution_count": null,
   "outputs": [],
   "source": [
    "sales_df = sales_df.drop(columns=['status', 'Vgchartzscore', 'url', 'img_url', 'basename', 'Rank', 'Total_Shipped'])"
   ],
   "metadata": {
    "collapsed": false,
    "pycharm": {
     "name": "#%%\n"
    }
   }
  },
  {
   "cell_type": "code",
   "execution_count": null,
   "outputs": [],
   "source": [
    "sales_df = sales_df.dropna(subset=['NA_Sales', 'EU_Sales', 'JP_Sales', 'Other_Sales', 'Year'])"
   ],
   "metadata": {
    "collapsed": false,
    "pycharm": {
     "name": "#%%\n"
    }
   }
  },
  {
   "cell_type": "code",
   "execution_count": null,
   "outputs": [],
   "source": [
    "sales_df.info()"
   ],
   "metadata": {
    "collapsed": false,
    "pycharm": {
     "name": "#%%\n"
    }
   }
  },
  {
   "cell_type": "code",
   "execution_count": null,
   "outputs": [],
   "source": [
    "percent_missing_func(sales_df)"
   ],
   "metadata": {
    "collapsed": false,
    "pycharm": {
     "name": "#%%\n"
    }
   }
  },
  {
   "cell_type": "code",
   "execution_count": null,
   "outputs": [],
   "source": [
    "sales_df.columns"
   ],
   "metadata": {
    "collapsed": false,
    "pycharm": {
     "name": "#%%\n"
    }
   }
  },
  {
   "cell_type": "code",
   "execution_count": null,
   "outputs": [],
   "source": [
    "sales_df = sales_df.drop(columns=['Last_Update'])"
   ],
   "metadata": {
    "collapsed": false,
    "pycharm": {
     "name": "#%%\n"
    }
   }
  },
  {
   "cell_type": "code",
   "execution_count": null,
   "outputs": [],
   "source": [
    "mean_value = sales_df['Critic_Score'].mean()\n",
    "sales_df['Critic_Score'].fillna(value=mean_value, inplace=True)\n",
    "sales_df"
   ],
   "metadata": {
    "collapsed": false,
    "pycharm": {
     "name": "#%%\n"
    }
   }
  },
  {
   "cell_type": "code",
   "execution_count": null,
   "outputs": [],
   "source": [
    "mean_value = sales_df['Critic_Count'].mean()\n",
    "sales_df['Critic_Count'].fillna(value=mean_value, inplace=True)\n",
    "mean_value = sales_df['User_Score'].mean()\n",
    "sales_df['User_Score'].fillna(value=mean_value, inplace=True)\n",
    "mean_value = sales_df['User_Count'].mean()\n",
    "sales_df['User_Count'].fillna(value=mean_value, inplace=True)\n",
    "sales_df"
   ],
   "metadata": {
    "collapsed": false,
    "pycharm": {
     "name": "#%%\n"
    }
   }
  },
  {
   "cell_type": "code",
   "execution_count": null,
   "outputs": [],
   "source": [
    "sales_by_year = sales_df.groupby('Year').sum().reset_index()\n",
    "sales_by_year"
   ],
   "metadata": {
    "collapsed": false,
    "pycharm": {
     "name": "#%%\n"
    }
   }
  },
  {
   "cell_type": "code",
   "execution_count": null,
   "outputs": [],
   "source": [
    "sales_by_genre = sales_df.groupby('Genre')['Global_Sales'].sum().reset_index()\n",
    "sales_by_genre.plot(kind=\"barh\", fontsize=10, x=\"Genre\")\n",
    "\n"
   ],
   "metadata": {
    "collapsed": false,
    "pycharm": {
     "name": "#%%\n"
    }
   }
  },
  {
   "cell_type": "code",
   "execution_count": null,
   "outputs": [],
   "source": [
    "sales_by_genre = sales_df.groupby('Genre')['Global_Sales'].sum()\n",
    "\n",
    "sales_by_genre.plot(kind=\"pie\", label=\"\",subplots=True, x=\"Genre\", y=\"Global_Sales\", figsize = (14, 10))"
   ],
   "metadata": {
    "collapsed": false,
    "pycharm": {
     "name": "#%%\n"
    }
   }
  },
  {
   "cell_type": "code",
   "execution_count": null,
   "outputs": [],
   "source": [
    "import seaborn as sns\n",
    "numeric_features =\n",
    "correlation = numeric_features.corr()\n",
    "print(correlation['SalePrice'].sort_values(ascending = False),'\\n')\n",
    "f , ax = mplt.subplots(figsize = (14,12))\n",
    "\n",
    "mplt.title('Correlation of Numeric Features with Sale Price',y=1,size=16)\n",
    "\n",
    "sns.heatmap(correlation,square = True,  vmax=0.8)\n",
    "\n"
   ],
   "metadata": {
    "collapsed": false,
    "pycharm": {
     "name": "#%%\n"
    }
   }
  },
  {
   "cell_type": "code",
   "execution_count": null,
   "outputs": [],
   "source": [
    "from numpy import set_printoptions\n",
    "from sklearn.feature_selection import f_classif\n",
    "# pearson's correlation feature selection for numeric input and numeric output\n",
    "from sklearn.datasets import make_regression\n",
    "from sklearn.feature_selection import SelectKBest\n",
    "from sklearn.feature_selection import f_regression\n",
    "\n",
    "y_col = 'Global_Sales'\n",
    "y = sales_df[y_col]\n",
    "X = sales_df[['NA_Sales', 'EU_Sales', 'JP_Sales', 'Other_Sales']]\n",
    "\n",
    "test = SelectKBest(score_func=f_classif, k=4)\n",
    "fit = test.fit(X, y)\n",
    "# summarize scores\n",
    "set_printoptions(precision=3)\n",
    "print(fit.scores_)\n",
    "features = fit.transform(X)\n",
    "# summarize selected features\n",
    "print(features[0:5,:])"
   ],
   "metadata": {
    "collapsed": false,
    "pycharm": {
     "name": "#%%\n"
    }
   }
  },
  {
   "cell_type": "code",
   "execution_count": null,
   "outputs": [],
   "source": [
    "sales_df.columns"
   ],
   "metadata": {
    "collapsed": false,
    "pycharm": {
     "name": "#%%\n"
    }
   }
  },
  {
   "cell_type": "code",
   "execution_count": null,
   "outputs": [],
   "source": [
    "from sklearn.model_selection import train_test_split\n",
    "\n",
    "\n",
    "y = sales_df[[\"Global_Sales\"]]\n",
    "X = sales_df.drop(columns=[y_col, \"Name\", 'Other_Sales'])\n",
    "X = X.apply(pd.to_numeric, errors='coerce')\n",
    "y = y.apply(pd.to_numeric, errors='coerce')\n",
    "X.fillna(0, inplace=True)\n",
    "y.fillna(0, inplace=True)\n",
    "\n",
    "import matplotlib.pyplot as plt\n",
    "import numpy as np\n",
    "from sklearn import datasets, linear_model\n",
    "from sklearn.metrics import mean_squared_error, r2_score\n",
    "\n",
    "# Split the data into training/testing sets\n",
    "X_train,X_test, y_train, y_test = train_test_split(X, y, test_size=0.2, random_state=42)\n",
    "\n",
    "# Create linear regression object\n",
    "regr = linear_model.LinearRegression()\n",
    "\n",
    "# Train the model using the training sets\n",
    "regr.fit(X_train, y_train)\n",
    "\n",
    "# Make predictions using the testing set\n",
    "y_pred = regr.predict(X_test)"
   ],
   "metadata": {
    "collapsed": false,
    "pycharm": {
     "name": "#%%\n"
    }
   }
  },
  {
   "cell_type": "code",
   "execution_count": null,
   "outputs": [],
   "source": [
    "y_pred"
   ],
   "metadata": {
    "collapsed": false,
    "pycharm": {
     "name": "#%%\n"
    }
   }
  },
  {
   "cell_type": "code",
   "execution_count": null,
   "outputs": [],
   "source": [
    "from matplotlib.pyplot import clf\n",
    "from sklearn.metrics import accuracy_score, f1_score\n",
    "import sklearn\n",
    "\n",
    "# The coefficients\n",
    "print(\"Coefficients: \\n\", regr.coef_)\n",
    "# The mean squared error\n",
    "print(\"Mean squared error: %.2f\" % mean_squared_error(y_test, y_pred))\n",
    "# The coefficient of determination: 1 is perfect prediction\n",
    "print(\"Coefficient of determination: %.2f\" % r2_score(y_test, y_pred))\n",
    "print(f\"R2 error: {r2_score(y_test, y_pred)}\")\n",
    "\n",
    "# Plot outputs\n",
    "plt.scatter(X_test, y_test, color=\"black\")\n",
    "plt.plot(X_test, y_pred, color=\"blue\", linewidth=3)\n",
    "\n",
    "plt.xticks(())\n",
    "plt.yticks(())\n",
    "\n",
    "plt.show()\n"
   ],
   "metadata": {
    "collapsed": false,
    "pycharm": {
     "name": "#%%\n"
    }
   }
  },
  {
   "cell_type": "code",
   "execution_count": null,
   "outputs": [],
   "source": [
    "y_pred"
   ],
   "metadata": {
    "collapsed": false,
    "pycharm": {
     "name": "#%%\n"
    }
   }
  },
  {
   "cell_type": "code",
   "execution_count": null,
   "outputs": [],
   "source": [
    "y_test"
   ],
   "metadata": {
    "collapsed": false,
    "pycharm": {
     "name": "#%%\n"
    }
   }
  },
  {
   "cell_type": "code",
   "execution_count": null,
   "outputs": [],
   "source": [
    "y_train.shape"
   ],
   "metadata": {
    "collapsed": false,
    "pycharm": {
     "name": "#%%\n"
    }
   }
  },
  {
   "cell_type": "code",
   "execution_count": null,
   "outputs": [],
   "source": [
    "import seaborn as sns\n",
    "sns.histplot(data=sales_by_year, x=\"Year\", y=\"Global_Sales\", bins=50, fill=True, kde=True)\n",
    "\n"
   ],
   "metadata": {
    "collapsed": false,
    "pycharm": {
     "name": "#%%\n"
    }
   }
  },
  {
   "cell_type": "code",
   "execution_count": null,
   "outputs": [],
   "source": [
    "figure = go.Figure()\n",
    "figure.add_scatter(y = sales_df[len('Name')], x = sales_df['Year'], mode='markers')\n",
    "figure.show()"
   ],
   "metadata": {
    "collapsed": false,
    "pycharm": {
     "name": "#%%\n"
    }
   }
  },
  {
   "cell_type": "code",
   "execution_count": null,
   "outputs": [],
   "source": [
    "figure = go.Figure()\n",
    "figure.add_scatter(x= sales_df[\"Year\"],  y = sales_df[\"Global_Sales\"], mode='markers')\n",
    "figure.show()"
   ],
   "metadata": {
    "collapsed": false,
    "pycharm": {
     "name": "#%%\n"
    }
   }
  },
  {
   "cell_type": "code",
   "execution_count": null,
   "outputs": [],
   "source": [
    "mplt.matshow(sales_df.corr())\n",
    "mplt.show()"
   ],
   "metadata": {
    "collapsed": false,
    "pycharm": {
     "name": "#%%\n"
    }
   }
  },
  {
   "cell_type": "code",
   "execution_count": null,
   "outputs": [],
   "source": [
    "f = mplt.figure(figsize=(19, 15))\n",
    "mplt.matshow(sales_df.corr(), fignum=f.number)\n",
    "mplt.xticks(range(sales_df.select_dtypes(['number']).shape[1]), sales_df.select_dtypes(['number']).columns, fontsize=14, rotation=45)\n",
    "mplt.yticks(range(sales_df.select_dtypes(['number']).shape[1]), sales_df.select_dtypes(['number']).columns, fontsize=14)\n",
    "cb = mplt.colorbar()\n",
    "cb.ax.tick_params(labelsize=14)\n",
    "mplt.title('Correlation Matrix', fontsize=16);"
   ],
   "metadata": {
    "collapsed": false,
    "pycharm": {
     "name": "#%%\n"
    }
   }
  }
 ],
 "metadata": {
  "kernelspec": {
   "display_name": "Python 3",
   "language": "python",
   "name": "python3"
  },
  "language_info": {
   "codemirror_mode": {
    "name": "ipython",
    "version": 2
   },
   "file_extension": ".py",
   "mimetype": "text/x-python",
   "name": "python",
   "nbconvert_exporter": "python",
   "pygments_lexer": "ipython2",
   "version": "2.7.6"
  }
 },
 "nbformat": 4,
 "nbformat_minor": 0
}